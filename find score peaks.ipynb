{
 "cells": [
  {
   "cell_type": "code",
   "execution_count": 5,
   "metadata": {},
   "outputs": [],
   "source": [
    "import numpy as np\n",
    "from os.path import join\n",
    "from tqdm import tqdm_notebook"
   ]
  },
  {
   "cell_type": "code",
   "execution_count": null,
   "metadata": {},
   "outputs": [],
   "source": []
  },
  {
   "cell_type": "code",
   "execution_count": 9,
   "metadata": {},
   "outputs": [],
   "source": [
    "def find_pixel_peaks_pos_2D(x, num):\n",
    "    '''input: n*m, where n is the number of channels and m is the number of pixels\n",
    "    output: num-dimensional vector, positions of peaks'''\n",
    "    [n, m] = x.shape\n",
    "    pixel_list = np.zeros((m))\n",
    "    for i in range(m):\n",
    "        pixel_list[i] = np.max(x[:, i], axis=0)\n",
    "    x_sort = np.argsort(pixel_list)\n",
    "    pos = x_sort[-num:]\n",
    "    return pos"
   ]
  },
  {
   "cell_type": "code",
   "execution_count": null,
   "metadata": {},
   "outputs": [],
   "source": []
  },
  {
   "cell_type": "code",
   "execution_count": 13,
   "metadata": {},
   "outputs": [
    {
     "data": {
      "application/vnd.jupyter.widget-view+json": {
       "model_id": "ec55bfaed05f4376acdbbdb5a521317d",
       "version_major": 2,
       "version_minor": 0
      },
      "text/plain": [
       "HBox(children=(IntProgress(value=0, max=8), HTML(value='')))"
      ]
     },
     "metadata": {},
     "output_type": "display_data"
    },
    {
     "name": "stdout",
     "output_type": "stream",
     "text": [
      "\n"
     ]
    }
   ],
   "source": [
    "diff_score_path = r'D:\\data\\china_2020\\coeffs_diff_scores'\n",
    "wvlt_score_path = r'D:\\data\\china_2020\\result'\n",
    "save_path = r'D:\\data\\china_2020\\scores_peaks_positions'\n",
    "process = 'RawSpectrum'\n",
    "find_peak_num = 100\n",
    "for choose_element in tqdm_notebook(['SiO2','Fe2O3','Al2O3','CaO','MgO','K2O','Na2O','TiO2']):\n",
    "# positions for diff scores\n",
    "    file_path_temp = join(diff_score_path, choose_element + '_' + process + '.txt')\n",
    "    data = np.loadtxt(file_path_temp)\n",
    "    data = data.reshape(127, 4559)\n",
    "    pos = find_pixel_peaks_pos_2D(data, find_peak_num)\n",
    "    np.savetxt(join(save_path, str(find_peak_num) + '_peaks_' + choose_element + '_' + process + '_diff.txt'), pos)\n",
    "    \n",
    "    for state in ['pellet', 'rock']:\n",
    "    # positions for wvlt scores\n",
    "        file_path_temp = join(wvlt_score_path, choose_element, 'skb_scores', state + '_' + process + '.txt')\n",
    "        data = np.loadtxt(file_path_temp)\n",
    "        data = data.reshape(127, 4559)\n",
    "        pos = find_pixel_peaks_pos_2D(data, find_peak_num)\n",
    "        np.savetxt(join(save_path, str(find_peak_num) + '_peaks_' + choose_element + '_' + state + '_' + process + '.txt'), pos)"
   ]
  },
  {
   "cell_type": "code",
   "execution_count": null,
   "metadata": {},
   "outputs": [],
   "source": []
  },
  {
   "cell_type": "code",
   "execution_count": null,
   "metadata": {},
   "outputs": [],
   "source": [
    "orig_path = r'D:\\data\\china_2020\\coeffs_mean'\n",
    "save_path = r'D:\\data\\china_2020\\wvlt_peaks_pixel_positions'\n",
    "rock_type = ['S2', 'S5', 'S17', 'S19', 'S30']\n",
    "for index_i in tqdm_notebook(rock_type):\n",
    "    for state in tqdm_notebook(['pellet', 'rock']):\n",
    "        for process in ['RawSpectrum', 'DenoisedSpectrum', 'SmoothedSpectrum']:\n",
    "            temp_path = join(orig_path, state + '_' + index_i + '_' + process + '.txt')\n",
    "            data = np.loadtxt(temp_path)\n",
    "            pos = find_pixel_peaks_pos_2D(data, find_peak_num)"
   ]
  },
  {
   "cell_type": "code",
   "execution_count": null,
   "metadata": {},
   "outputs": [],
   "source": []
  },
  {
   "cell_type": "code",
   "execution_count": null,
   "metadata": {},
   "outputs": [],
   "source": []
  }
 ],
 "metadata": {
  "kernelspec": {
   "display_name": "Python 3",
   "language": "python",
   "name": "python3"
  },
  "language_info": {
   "codemirror_mode": {
    "name": "ipython",
    "version": 3
   },
   "file_extension": ".py",
   "mimetype": "text/x-python",
   "name": "python",
   "nbconvert_exporter": "python",
   "pygments_lexer": "ipython3",
   "version": "3.7.4"
  }
 },
 "nbformat": 4,
 "nbformat_minor": 2
}
