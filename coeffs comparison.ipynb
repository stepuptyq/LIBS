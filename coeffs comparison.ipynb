{
 "cells": [
  {
   "cell_type": "code",
   "execution_count": 32,
   "metadata": {},
   "outputs": [],
   "source": [
    "import numpy as np\n",
    "import pandas as pd\n",
    "import os\n",
    "from tqdm import tqdm_notebook\n",
    "from sklearn.feature_selection import SelectKBest, f_regression, mutual_info_regression, mutual_info_classif, chi2, f_classif\n"
   ]
  },
  {
   "cell_type": "code",
   "execution_count": 34,
   "metadata": {},
   "outputs": [
    {
     "data": {
      "application/vnd.jupyter.widget-view+json": {
       "model_id": "3daf76500bb24a008bb6f76ddee99e81",
       "version_major": 2,
       "version_minor": 0
      },
      "text/plain": [
       "HBox(children=(IntProgress(value=0, max=3), HTML(value='')))"
      ]
     },
     "metadata": {},
     "output_type": "display_data"
    },
    {
     "data": {
      "application/vnd.jupyter.widget-view+json": {
       "model_id": "7825d6b150034ac09dabfca3aad34802",
       "version_major": 2,
       "version_minor": 0
      },
      "text/plain": [
       "HBox(children=(IntProgress(value=0, max=5), HTML(value='')))"
      ]
     },
     "metadata": {},
     "output_type": "display_data"
    },
    {
     "name": "stdout",
     "output_type": "stream",
     "text": [
      "\n"
     ]
    },
    {
     "data": {
      "application/vnd.jupyter.widget-view+json": {
       "model_id": "6255158c076e40c098e08d4fed3f9f98",
       "version_major": 2,
       "version_minor": 0
      },
      "text/plain": [
       "HBox(children=(IntProgress(value=0, max=5), HTML(value='')))"
      ]
     },
     "metadata": {},
     "output_type": "display_data"
    },
    {
     "name": "stdout",
     "output_type": "stream",
     "text": [
      "\n"
     ]
    },
    {
     "data": {
      "application/vnd.jupyter.widget-view+json": {
       "model_id": "07965066a2a041de871cad06961391fa",
       "version_major": 2,
       "version_minor": 0
      },
      "text/plain": [
       "HBox(children=(IntProgress(value=0, max=5), HTML(value='')))"
      ]
     },
     "metadata": {},
     "output_type": "display_data"
    },
    {
     "name": "stdout",
     "output_type": "stream",
     "text": [
      "\n",
      "\n"
     ]
    }
   ],
   "source": [
    "choose_element = 'Fe2O3' #['SiO2','Fe2O3','Al2O3','CaO','MgO','K2O','Na2O','TiO2']\n",
    "#for coeffs comparison\n",
    "save_path = r'D:\\data\\china_2020\\coeffs_diff'\n",
    "data_file_path = r'D:\\data\\china_2020\\coeffs_mean'\n",
    "menu_guide_path = r'D:\\data\\Menu_Guide-quantitative.xlsx'\n",
    "process_path = ['DenoisedSpectrum', 'SmoothedSpectrum', 'RawSpectrum']\n",
    "file_list = 'Spectra_Name'\n",
    "data_flag = pd.read_excel(menu_guide_path)\n",
    "file_names = np.array(data_flag[file_list])\n",
    "concentration = np.array(data_flag[choose_element])\n",
    "########################################################################################################################\n",
    "\n",
    "train_position = [1, 3, 12, 13, 21]\n",
    "\n",
    "for process in tqdm_notebook(process_path):\n",
    "    for index_i in tqdm_notebook(train_position):\n",
    "        temp_concentration = concentration[index_i]\n",
    "        data_diff = np.zeros((8, 127, 4559))\n",
    "        for j in range(8):\n",
    "            data_cache = {'rock': 0, 'pellet': 0}\n",
    "            for state in ['rock', 'pellet']:\n",
    "                data_cache[state] = np.loadtxt(os.path.join(r'D:\\data\\china_2020\\coeffs_mean', state+'_'+file_names[index_i]+'_'+process+'_'+str(j)+'.txt'))\n",
    "            data_diff[j] = data_cache['rock'] - data_cache['pellet']\n",
    "        data_diff_std = np.std(data_diff, axis=0)\n",
    "        data_diff_mean = np.sum(data_diff, axis=0) / 8\n",
    "        np.savetxt(os.path.join(save_path, file_names[index_i]+'_'+process+'.txt'), data_diff_mean)\n",
    "        np.savetxt(os.path.join(save_path, file_names[index_i]+'_'+process+'_std.txt'), data_diff_std)"
   ]
  },
  {
   "cell_type": "code",
   "execution_count": null,
   "metadata": {},
   "outputs": [],
   "source": []
  },
  {
   "cell_type": "code",
   "execution_count": null,
   "metadata": {},
   "outputs": [],
   "source": [
    "for choose_element in tqdm_notebook(['SiO2','Fe2O3','Al2O3','CaO','MgO','K2O','Na2O','TiO2']):\n",
    "    #for coeffs comparison\n",
    "    save_path = r'D:\\data\\china_2020\\coeffs_diff_scores'\n",
    "    data_file_path = r'D:\\data\\china_2020\\coeffs_diff'\n",
    "    menu_guide_path = r'D:\\data\\Menu_Guide-quantitative.xlsx'\n",
    "    process_path = ['DenoisedSpectrum', 'SmoothedSpectrum', 'RawSpectrum']\n",
    "    file_list = 'Spectra_Name'\n",
    "    data_flag = pd.read_excel(menu_guide_path)\n",
    "    file_names = np.array(data_flag[file_list])\n",
    "    concentration = np.array(data_flag[choose_element])\n",
    "    ########################################################################################################################\n",
    "\n",
    "    train_position = [1, 3, 12, 13, 21]\n",
    "\n",
    "    process = 'RawSpectrum'\n",
    "    X_tr = None\n",
    "    for index_i in tqdm_notebook(train_position):\n",
    "        temp_concentration = concentration[index_i]\n",
    "        for j in range(8):\n",
    "            data = np.loadtxt(os.path.join(data_file_path, file_names[index_i]+'_'+process+'_'+str(j)+'.txt')).flatten()\n",
    "            if X_tr is None:\n",
    "                X_tr = data\n",
    "                y_tr = temp_concentration\n",
    "            else:\n",
    "                X_tr = np.row_stack((X_tr, data))\n",
    "                y_tr = np.row_stack((y_tr, temp_concentration))\n",
    "    skb = SelectKBest(f_regression, k=X_tr.shape[1])\n",
    "    X_tr = skb.fit_transform(X_tr, y_tr.ravel())\n",
    "    score = skb.scores_\n",
    "    score = score.tolist()\n",
    "    np.savetxt(os.path.join(save_path, choose_element + '_' + process + '.txt'), score)"
   ]
  },
  {
   "cell_type": "code",
   "execution_count": null,
   "metadata": {},
   "outputs": [],
   "source": []
  },
  {
   "cell_type": "code",
   "execution_count": 29,
   "metadata": {},
   "outputs": [
    {
     "data": {
      "application/vnd.jupyter.widget-view+json": {
       "model_id": "2ad8c2bc54e947d186ec29f4c68a896f",
       "version_major": 2,
       "version_minor": 0
      },
      "text/plain": [
       "HBox(children=(IntProgress(value=0, max=2), HTML(value='')))"
      ]
     },
     "metadata": {},
     "output_type": "display_data"
    },
    {
     "data": {
      "application/vnd.jupyter.widget-view+json": {
       "model_id": "85ff0fb38dcb4d1c90b9cb2248f872c4",
       "version_major": 2,
       "version_minor": 0
      },
      "text/plain": [
       "HBox(children=(IntProgress(value=0, max=5), HTML(value='')))"
      ]
     },
     "metadata": {},
     "output_type": "display_data"
    },
    {
     "name": "stdout",
     "output_type": "stream",
     "text": [
      "\n"
     ]
    },
    {
     "data": {
      "application/vnd.jupyter.widget-view+json": {
       "model_id": "42b6ec72a9f74912928143437f8d4e95",
       "version_major": 2,
       "version_minor": 0
      },
      "text/plain": [
       "HBox(children=(IntProgress(value=0, max=5), HTML(value='')))"
      ]
     },
     "metadata": {},
     "output_type": "display_data"
    },
    {
     "name": "stdout",
     "output_type": "stream",
     "text": [
      "\n",
      "\n"
     ]
    }
   ],
   "source": [
    "import numpy as np\n",
    "import pandas as pd\n",
    "import os\n",
    "from tqdm import tqdm_notebook\n",
    "from sklearn.feature_selection import SelectKBest, f_regression, mutual_info_regression, mutual_info_classif, chi2, f_classif\n",
    "from sklearn.cluster import KMeans\n",
    "import sklearn\n",
    "data_file_path = r'D:\\data\\china_2020\\coeffs'\n",
    "flag = {'rock': 1, 'pellet': 0}\n",
    "process = 'RawSpectrum'\n",
    "X_tr = None\n",
    "for state in tqdm_notebook(['rock', 'pellet']):\n",
    "    for index_i in tqdm_notebook(train_position):\n",
    "        temp_concentration = flag[state] #rock:1 pellet:0\n",
    "        for i in range(3):\n",
    "            for j in range(8):\n",
    "                data = np.loadtxt(os.path.join(data_file_path, state+'_'+file_names[index_i]+'_'+process+'_'+str(i+1)+'_'+str(j)+'.txt')).flatten()\n",
    "                if X_tr is None:\n",
    "                    X_tr = data\n",
    "                    y_tr = temp_concentration\n",
    "                else:\n",
    "                    X_tr = np.row_stack((X_tr, data))\n",
    "                    y_tr = np.row_stack((y_tr, temp_concentration))\n"
   ]
  },
  {
   "cell_type": "code",
   "execution_count": null,
   "metadata": {},
   "outputs": [],
   "source": []
  },
  {
   "cell_type": "code",
   "execution_count": 31,
   "metadata": {},
   "outputs": [],
   "source": [
    "chi2, pval = chi2(X_tr, y_tr)\n",
    "np.savetxt(os.path.join(r'D:\\data\\china_2020\\coeffs_rock_pellet_chi2', process + '.txt'), np.column_stack((chi2, pval)))"
   ]
  },
  {
   "cell_type": "code",
   "execution_count": null,
   "metadata": {},
   "outputs": [],
   "source": []
  },
  {
   "cell_type": "code",
   "execution_count": 28,
   "metadata": {},
   "outputs": [
    {
     "name": "stdout",
     "output_type": "stream",
     "text": [
      "labels = [0 0 0 0 0 0 0 0 1 1 1 1 1 1 1 1 2 2 2 2 2 2 2 2 0 0 0 0 0 0 0 0 0 0 0 0 0\n",
      " 0 0 0]\n"
     ]
    },
    {
     "data": {
      "text/plain": [
       "0.5639184671755635"
      ]
     },
     "execution_count": 28,
     "metadata": {},
     "output_type": "execute_result"
    }
   ],
   "source": [
    "import sklearn\n",
    "kmeans_model = KMeans(n_clusters=3, random_state=1).fit(X_tr)\n",
    "labels = kmeans_model.labels_\n",
    "print('labels = '+str(labels))\n",
    "sklearn.metrics.silhouette_score(X_tr, labels, metric='euclidean')"
   ]
  },
  {
   "cell_type": "code",
   "execution_count": null,
   "metadata": {},
   "outputs": [],
   "source": []
  },
  {
   "cell_type": "code",
   "execution_count": 45,
   "metadata": {},
   "outputs": [
    {
     "data": {
      "application/vnd.jupyter.widget-view+json": {
       "model_id": "ae595f3f644e4d55a72416e695372c4b",
       "version_major": 2,
       "version_minor": 0
      },
      "text/plain": [
       "HBox(children=(IntProgress(value=0, max=5), HTML(value='')))"
      ]
     },
     "metadata": {},
     "output_type": "display_data"
    },
    {
     "data": {
      "application/vnd.jupyter.widget-view+json": {
       "model_id": "3310cd3c440941a89ae5247916687ee2",
       "version_major": 2,
       "version_minor": 0
      },
      "text/plain": [
       "HBox(children=(IntProgress(value=0, max=3), HTML(value='')))"
      ]
     },
     "metadata": {},
     "output_type": "display_data"
    },
    {
     "name": "stdout",
     "output_type": "stream",
     "text": [
      "\n"
     ]
    },
    {
     "data": {
      "application/vnd.jupyter.widget-view+json": {
       "model_id": "920ba1be89f84d1989ff568428801b59",
       "version_major": 2,
       "version_minor": 0
      },
      "text/plain": [
       "HBox(children=(IntProgress(value=0, max=3), HTML(value='')))"
      ]
     },
     "metadata": {},
     "output_type": "display_data"
    },
    {
     "name": "stdout",
     "output_type": "stream",
     "text": [
      "\n"
     ]
    },
    {
     "data": {
      "application/vnd.jupyter.widget-view+json": {
       "model_id": "5cc840b8f2cb4826a690a79eb0640ce1",
       "version_major": 2,
       "version_minor": 0
      },
      "text/plain": [
       "HBox(children=(IntProgress(value=0, max=3), HTML(value='')))"
      ]
     },
     "metadata": {},
     "output_type": "display_data"
    },
    {
     "name": "stdout",
     "output_type": "stream",
     "text": [
      "\n"
     ]
    },
    {
     "data": {
      "application/vnd.jupyter.widget-view+json": {
       "model_id": "c01b0d04f69a4d37af65cde57d94a6d7",
       "version_major": 2,
       "version_minor": 0
      },
      "text/plain": [
       "HBox(children=(IntProgress(value=0, max=3), HTML(value='')))"
      ]
     },
     "metadata": {},
     "output_type": "display_data"
    },
    {
     "name": "stdout",
     "output_type": "stream",
     "text": [
      "\n"
     ]
    },
    {
     "data": {
      "application/vnd.jupyter.widget-view+json": {
       "model_id": "a50cbc75377c4d858d5a7e3c3668bd19",
       "version_major": 2,
       "version_minor": 0
      },
      "text/plain": [
       "HBox(children=(IntProgress(value=0, max=3), HTML(value='')))"
      ]
     },
     "metadata": {},
     "output_type": "display_data"
    },
    {
     "name": "stdout",
     "output_type": "stream",
     "text": [
      "\n",
      "\n"
     ]
    }
   ],
   "source": [
    "orig_path = r'D:\\data\\china_2020\\pixel_select'\n",
    "for j in tqdm_notebook([1, 3, 12, 13, 21]):\n",
    "    for i in tqdm_notebook(range(3)):\n",
    "        for state in ['pellet', 'rock']:\n",
    "            data_cache = {'Raw': 0, 'Dark': 0}\n",
    "            for index_i in ['Raw', 'Dark']:\n",
    "                data_cache[index_i] = np.loadtxt(os.path.join(orig_path, file_names[j]+'-'+state+'_RawSpectrum_'+index_i+'_'+str(i+1)+'.txt'))\n",
    "                pixel_list = data_cache[index_i][:, 0]\n",
    "                data_cache[index_i] = data_cache[index_i][:, 1:]\n",
    "            data_diff = data_cache['Raw'] - data_cache['Dark'].dot(np.ones((1, 51)))\n",
    "            np.savetxt(os.path.join(orig_path, file_names[j]+'-'+state+'_RawSpectrum_'+str(i+1)+'.txt'), np.column_stack((pixel_list, data_diff)), '%.5g')"
   ]
  },
  {
   "cell_type": "code",
   "execution_count": null,
   "metadata": {},
   "outputs": [],
   "source": []
  }
 ],
 "metadata": {
  "kernelspec": {
   "display_name": "Python 3",
   "language": "python",
   "name": "python3"
  },
  "language_info": {
   "codemirror_mode": {
    "name": "ipython",
    "version": 3
   },
   "file_extension": ".py",
   "mimetype": "text/x-python",
   "name": "python",
   "nbconvert_exporter": "python",
   "pygments_lexer": "ipython3",
   "version": "3.7.4"
  }
 },
 "nbformat": 4,
 "nbformat_minor": 2
}
