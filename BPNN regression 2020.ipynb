{
 "cells": [
  {
   "cell_type": "code",
   "execution_count": 2,
   "metadata": {},
   "outputs": [],
   "source": [
    "#!/usr/bin/python3\n",
    "# coding: utf-8\n",
    "import pandas as pd\n",
    "import numpy as np\n",
    "from time import time\n",
    "import os\n",
    "import random\n",
    "import xlrd\n",
    "import xlwt\n",
    "import sys\n",
    "from scipy import optimize\n",
    "from tqdm import tqdm_notebook\n",
    "from sklearn import preprocessing\n",
    "from sklearn.feature_selection import SelectKBest, f_regression, mutual_info_regression, mutual_info_classif\n",
    "from sklearn.model_selection import RepeatedStratifiedKFold\n",
    "from sklearn import manifold\n",
    "from matplotlib import pyplot as plt\n",
    "from sklearn.metrics import mean_squared_error, r2_score, mean_absolute_error"
   ]
  },
  {
   "cell_type": "code",
   "execution_count": null,
   "metadata": {},
   "outputs": [],
   "source": []
  },
  {
   "cell_type": "code",
   "execution_count": 5,
   "metadata": {
    "scrolled": true
   },
   "outputs": [
    {
     "data": {
      "application/vnd.jupyter.widget-view+json": {
       "model_id": "9c9a19cf261a42ef8fd76fd84ed0b683",
       "version_major": 2,
       "version_minor": 0
      },
      "text/plain": [
       "HBox(children=(IntProgress(value=0, max=8), HTML(value='')))"
      ]
     },
     "metadata": {},
     "output_type": "display_data"
    },
    {
     "data": {
      "application/vnd.jupyter.widget-view+json": {
       "model_id": "b8ee033ef54f496fad16d542e72d67c5",
       "version_major": 2,
       "version_minor": 0
      },
      "text/plain": [
       "HBox(children=(IntProgress(value=0, max=2), HTML(value='')))"
      ]
     },
     "metadata": {},
     "output_type": "display_data"
    },
    {
     "name": "stdout",
     "output_type": "stream",
     "text": [
      "D:\\data\\china_2020\\coeffs_cut\\SiO2\\pellet_S2_DenoisedSpectrum_0.txt\n",
      "D:\\data\\china_2020\\coeffs_cut\\SiO2\\pellet_S2_DenoisedSpectrum_1.txt\n",
      "D:\\data\\china_2020\\coeffs_cut\\SiO2\\pellet_S2_DenoisedSpectrum_2.txt\n",
      "D:\\data\\china_2020\\coeffs_cut\\SiO2\\pellet_S2_DenoisedSpectrum_3.txt\n",
      "D:\\data\\china_2020\\coeffs_cut\\SiO2\\pellet_S2_DenoisedSpectrum_4.txt\n",
      "D:\\data\\china_2020\\coeffs_cut\\SiO2\\pellet_S2_DenoisedSpectrum_5.txt\n",
      "D:\\data\\china_2020\\coeffs_cut\\SiO2\\pellet_S2_DenoisedSpectrum_6.txt\n",
      "D:\\data\\china_2020\\coeffs_cut\\SiO2\\pellet_S2_DenoisedSpectrum_7.txt\n",
      "D:\\data\\china_2020\\coeffs_cut\\SiO2\\pellet_S5_DenoisedSpectrum_0.txt\n",
      "D:\\data\\china_2020\\coeffs_cut\\SiO2\\pellet_S5_DenoisedSpectrum_1.txt\n",
      "D:\\data\\china_2020\\coeffs_cut\\SiO2\\pellet_S5_DenoisedSpectrum_2.txt\n",
      "D:\\data\\china_2020\\coeffs_cut\\SiO2\\pellet_S5_DenoisedSpectrum_3.txt\n",
      "D:\\data\\china_2020\\coeffs_cut\\SiO2\\pellet_S5_DenoisedSpectrum_4.txt\n",
      "D:\\data\\china_2020\\coeffs_cut\\SiO2\\pellet_S5_DenoisedSpectrum_5.txt\n",
      "D:\\data\\china_2020\\coeffs_cut\\SiO2\\pellet_S5_DenoisedSpectrum_6.txt\n",
      "D:\\data\\china_2020\\coeffs_cut\\SiO2\\pellet_S5_DenoisedSpectrum_7.txt\n",
      "D:\\data\\china_2020\\coeffs_cut\\SiO2\\pellet_S17_DenoisedSpectrum_0.txt\n",
      "D:\\data\\china_2020\\coeffs_cut\\SiO2\\pellet_S17_DenoisedSpectrum_1.txt\n",
      "D:\\data\\china_2020\\coeffs_cut\\SiO2\\pellet_S17_DenoisedSpectrum_2.txt\n",
      "D:\\data\\china_2020\\coeffs_cut\\SiO2\\pellet_S17_DenoisedSpectrum_3.txt\n",
      "D:\\data\\china_2020\\coeffs_cut\\SiO2\\pellet_S17_DenoisedSpectrum_4.txt\n",
      "D:\\data\\china_2020\\coeffs_cut\\SiO2\\pellet_S17_DenoisedSpectrum_5.txt\n",
      "D:\\data\\china_2020\\coeffs_cut\\SiO2\\pellet_S17_DenoisedSpectrum_6.txt\n",
      "D:\\data\\china_2020\\coeffs_cut\\SiO2\\pellet_S17_DenoisedSpectrum_7.txt\n",
      "D:\\data\\china_2020\\coeffs_cut\\SiO2\\pellet_S19_DenoisedSpectrum_0.txt\n",
      "D:\\data\\china_2020\\coeffs_cut\\SiO2\\pellet_S19_DenoisedSpectrum_1.txt\n",
      "D:\\data\\china_2020\\coeffs_cut\\SiO2\\pellet_S19_DenoisedSpectrum_2.txt\n",
      "D:\\data\\china_2020\\coeffs_cut\\SiO2\\pellet_S19_DenoisedSpectrum_3.txt\n",
      "D:\\data\\china_2020\\coeffs_cut\\SiO2\\pellet_S19_DenoisedSpectrum_4.txt\n",
      "D:\\data\\china_2020\\coeffs_cut\\SiO2\\pellet_S19_DenoisedSpectrum_5.txt\n",
      "D:\\data\\china_2020\\coeffs_cut\\SiO2\\pellet_S19_DenoisedSpectrum_6.txt\n",
      "D:\\data\\china_2020\\coeffs_cut\\SiO2\\pellet_S19_DenoisedSpectrum_7.txt\n",
      "D:\\data\\china_2020\\coeffs_cut\\SiO2\\pellet_S30_DenoisedSpectrum_0.txt\n",
      "D:\\data\\china_2020\\coeffs_cut\\SiO2\\pellet_S30_DenoisedSpectrum_1.txt\n",
      "D:\\data\\china_2020\\coeffs_cut\\SiO2\\pellet_S30_DenoisedSpectrum_2.txt\n",
      "D:\\data\\china_2020\\coeffs_cut\\SiO2\\pellet_S30_DenoisedSpectrum_3.txt\n",
      "D:\\data\\china_2020\\coeffs_cut\\SiO2\\pellet_S30_DenoisedSpectrum_4.txt\n",
      "D:\\data\\china_2020\\coeffs_cut\\SiO2\\pellet_S30_DenoisedSpectrum_5.txt\n",
      "D:\\data\\china_2020\\coeffs_cut\\SiO2\\pellet_S30_DenoisedSpectrum_6.txt\n",
      "D:\\data\\china_2020\\coeffs_cut\\SiO2\\pellet_S30_DenoisedSpectrum_7.txt\n"
     ]
    },
    {
     "ename": "AttributeError",
     "evalue": "'NoneType' object has no attribute 'shape'",
     "output_type": "error",
     "traceback": [
      "\u001b[1;31m---------------------------------------------------------------------------\u001b[0m",
      "\u001b[1;31mAttributeError\u001b[0m                            Traceback (most recent call last)",
      "\u001b[1;32m<ipython-input-5-72fe87f1fc3c>\u001b[0m in \u001b[0;36m<module>\u001b[1;34m\u001b[0m\n\u001b[0;32m    360\u001b[0m                     \u001b[0msample_name_tr\u001b[0m \u001b[1;33m=\u001b[0m \u001b[0mnp\u001b[0m\u001b[1;33m.\u001b[0m\u001b[0mrow_stack\u001b[0m\u001b[1;33m(\u001b[0m\u001b[1;33m(\u001b[0m\u001b[0msample_name_tr\u001b[0m\u001b[1;33m,\u001b[0m \u001b[0mtemp_sample_name\u001b[0m\u001b[1;33m)\u001b[0m\u001b[1;33m)\u001b[0m\u001b[1;33m\u001b[0m\u001b[1;33m\u001b[0m\u001b[0m\n\u001b[0;32m    361\u001b[0m                     \u001b[0mgroup_tr\u001b[0m \u001b[1;33m=\u001b[0m \u001b[0mnp\u001b[0m\u001b[1;33m.\u001b[0m\u001b[0mrow_stack\u001b[0m\u001b[1;33m(\u001b[0m\u001b[1;33m(\u001b[0m\u001b[0mgroup_tr\u001b[0m\u001b[1;33m,\u001b[0m \u001b[0mindex_i\u001b[0m\u001b[1;33m)\u001b[0m\u001b[1;33m)\u001b[0m\u001b[1;33m\u001b[0m\u001b[1;33m\u001b[0m\u001b[0m\n\u001b[1;32m--> 362\u001b[1;33m         \u001b[0mprint\u001b[0m\u001b[1;33m(\u001b[0m\u001b[1;34m'X_tr.shape = '\u001b[0m\u001b[1;33m+\u001b[0m\u001b[0mstr\u001b[0m\u001b[1;33m(\u001b[0m\u001b[0mX_tr\u001b[0m\u001b[1;33m.\u001b[0m\u001b[0mshape\u001b[0m\u001b[1;33m)\u001b[0m\u001b[1;33m)\u001b[0m\u001b[1;33m\u001b[0m\u001b[1;33m\u001b[0m\u001b[0m\n\u001b[0m\u001b[0;32m    363\u001b[0m         \u001b[0mprint\u001b[0m\u001b[1;33m(\u001b[0m\u001b[1;34m'y_tr.shape = '\u001b[0m\u001b[1;33m+\u001b[0m\u001b[0mstr\u001b[0m\u001b[1;33m(\u001b[0m\u001b[0my_tr\u001b[0m\u001b[1;33m.\u001b[0m\u001b[0mshape\u001b[0m\u001b[1;33m)\u001b[0m\u001b[1;33m)\u001b[0m\u001b[1;33m\u001b[0m\u001b[1;33m\u001b[0m\u001b[0m\n\u001b[0;32m    364\u001b[0m \u001b[1;33m\u001b[0m\u001b[0m\n",
      "\u001b[1;31mAttributeError\u001b[0m: 'NoneType' object has no attribute 'shape'"
     ]
    }
   ],
   "source": [
    "\n",
    "\n",
    "\n",
    "########################################################################################################################\n",
    "# 线性拟合\n",
    "def f_1(x, a, b):\n",
    "    return a * x + b\n",
    "\n",
    "########################################################################################################################\n",
    "# 除去重复\n",
    "def remove_duplicate(x):  # the input should be the list style\n",
    "    x = x.reshape(1, -1)\n",
    "    x = x[0, :].tolist()\n",
    "    output = []\n",
    "    for i in x:\n",
    "        if i not in output:\n",
    "            output.append(i)\n",
    "    return output\n",
    "\n",
    "########################################################################################################################\n",
    "# 归一化同种样品的能量\n",
    "def normalize_single(spectra):\n",
    "    spectra_max = np.max(spectra, axis=1)\n",
    "    spectra_max = spectra_max.reshape(-1, 1)\n",
    "    spectra_mean = np.mean(spectra)\n",
    "    spectra_output = spectra*spectra_mean/spectra_max\n",
    "    return spectra_output\n",
    "\n",
    "########################################################################################################################\n",
    "# 归一化同种样品的能量\n",
    "def normalize_single_1(spectra):\n",
    "    wh = np.where(spectra == np.max(spectra))\n",
    "    spectra_max = spectra[:, wh[1][0]]\n",
    "    spectra_max = spectra_max.reshape(-1, 1)\n",
    "    spectra_mean = np.mean(spectra_max)\n",
    "    spectra_output = spectra * spectra_mean / spectra_max\n",
    "    return spectra_output\n",
    "\n",
    "########################################################################################################################\n",
    "# 归一化同种样品的能量\n",
    "def normalize_single_2(spectra):\n",
    "    spectra_mean_single = np.mean(spectra, axis=1)\n",
    "    spectra_mean_single = spectra_mean_single.reshape(-1, 1)\n",
    "    spectra_mean = np.mean(spectra)\n",
    "    spectra_output = spectra * spectra_mean / spectra_mean_single\n",
    "    return spectra_output\n",
    "\n",
    "########################################################################################################################\n",
    "# 归一化样品的能量\n",
    "def normalize(spectra, group_set):\n",
    "    X_output = np.zeros((spectra.shape[0], spectra.shape[1]))\n",
    "    temp = remove_duplicate(group_set)\n",
    "    group_set = group_set[:, 0].tolist()\n",
    "    for indexj in range(len(temp)):\n",
    "        temp_order = [i for i, x in enumerate(group_set) if x == temp[indexj]]\n",
    "        X_temp = spectra[temp_order, :]\n",
    "        X_temp = normalize_single_1(X_temp)\n",
    "        X_output[temp_order] = X_temp\n",
    "    return X_output\n",
    "\n",
    "########################################################################################################################\n",
    "# 归一化样品的能量\n",
    "def normalize1(spectra):\n",
    "    spectra_mean_single = np.mean(spectra, axis=1)\n",
    "    spectra_mean_single = spectra_mean_single.reshape(-1, 1)\n",
    "    spectra_mean = np.mean(spectra)\n",
    "    X_output = spectra * spectra_mean / spectra_mean_single\n",
    "    return X_output\n",
    "\n",
    "########################################################################################################################\n",
    "# 相对标准差\n",
    "def relative_standard_derivation(x_predict, x_te):  # the imput should be the list style\n",
    "    output = np.std((x_predict - x_te) / x_te) #* np.sqrt(len(x_te) / (len(x_te) - 1))\n",
    "    return output\n",
    "\n",
    "########################################################################################################################\n",
    "# 相对偏差\n",
    "def relative_error(x_predict, x_true):  # the imput should be the list style\n",
    "    output = np.mean(abs(x_predict - x_true) / x_true)\n",
    "    return output\n",
    "\n",
    "########################################################################################################################\n",
    "# limited of detection\n",
    "def limited_of_detection(slope, rsd_calibration):\n",
    "    output = 3 * np.mean(rsd_calibration) / slope\n",
    "    return output\n",
    "\n",
    "def relu(x):\n",
    "    return np.maximum(x, 0.0)\n",
    "\n",
    "def relu_deriv(x):\n",
    "    x[x > 0] = 1.0\n",
    "    x[x <= 0] = 0.0\n",
    "    return x\n",
    "\n",
    "def tanh(x):\n",
    "    return np.tanh(x)\n",
    "\n",
    "def tanh_deriv(x):\n",
    "    return 1.0 - np.tanh(x)*np.tanh(x)\n",
    "\n",
    "def logistic(x):\n",
    "    return 1/(1+np.exp(-x))\n",
    "\n",
    "def logistic_derivative(x):\n",
    "    return logistic(x)*(1-logistic(x))\n",
    "\n",
    "def prelu(x):\n",
    "    return np.maximum(x, 0.0) + 0.25*np.minimum(x, 0.0)\n",
    "\n",
    "def prelu_deriv(x):\n",
    "    x[x > 0] = 1.0\n",
    "    x[x < 0] = 0.25\n",
    "    return x\n",
    "\n",
    "class BPNNet:\n",
    "\n",
    "    def __init__(self, layers, activation=[\"tanh\", \"tanh\"], batch_size=\"None\"):\n",
    "        self.layers = layers\n",
    "        # active function\n",
    "        self.activation = activation\n",
    "        if self.activation[0] == 'logistic':\n",
    "            self.activation0 = logistic\n",
    "            self.activation0_deriv = logistic_derivative\n",
    "        elif self.activation[0] == 'tanh':\n",
    "            self.activation0 = tanh\n",
    "            self.activation0_deriv = tanh_deriv\n",
    "        elif self.activation[0] == 'relu':\n",
    "            self.activation0 = relu\n",
    "            self.activation0_deriv = relu_deriv\n",
    "        elif self.activation[0] == 'prelu':\n",
    "            self.activation0 = prelu\n",
    "            self.activation0_deriv = prelu_deriv\n",
    "        if self.activation[1] == 'logistic':\n",
    "            self.activation1 = logistic\n",
    "            self.activation1_deriv = logistic_derivative\n",
    "        elif self.activation[1] == 'tanh':\n",
    "            self.activation1 = tanh\n",
    "            self.activation1_deriv = tanh_deriv\n",
    "        elif self.activation[1] == 'relu':\n",
    "            self.activation1 = relu\n",
    "            self.activation1_deriv = relu_deriv\n",
    "        elif self.activation[1] == 'prelu':\n",
    "            self.activation1 = prelu\n",
    "            self.activation1_deriv = prelu_deriv\n",
    "        # batch_size\n",
    "        if batch_size == \"None\":\n",
    "            self.batch_size = 0\n",
    "        else:\n",
    "            self.batch_size = batch_size\n",
    "        # random weights & weights updates\n",
    "        self.weights = []\n",
    "        self.weights.append((2*np.random.random((layers[0]+1,layers[1]))-1)*0.25)\n",
    "        for i in range(2,len(self.layers)):\n",
    "            self.weights.append((2*np.random.random((layers[i - 1],layers[i])) - 1) * 0.25)\n",
    "        # random weights & weights updates\n",
    "        self.updates = []\n",
    "        self.updates.append(np.zeros((self.layers[0] + 1, self.layers[1])))\n",
    "        for i in range(2,len(self.layers)):\n",
    "            self.updates.append(np.zeros((self.layers[i - 1], self.layers[i])))\n",
    "    def fit(self, X, y, learning_rate_max=0.3, learning_rate_min=0.1, epochs=2000000, error_threshold=1e-8):  # learning_rate=0.2\n",
    "        # self.weights 的数据更新\n",
    "        self.weights[0] = (2*np.random.random((self.layers[0]+1, self.layers[1]))-1)*0.25\n",
    "        for i in range(2, len(self.layers)):\n",
    "            self.weights[i - 1] = (2*np.random.random((self.layers[i - 1],self.layers[i])) - 1) * 0.25\n",
    "        #print(self.weights)\n",
    "        # atlest_2d函数:确认X至少二位的矩阵\n",
    "        X = np.atleast_2d(X)\n",
    "        # 初始化矩阵全是1（行数，列数+1是为了有B这个偏向）\n",
    "        temp = np.ones([X.shape[0], X.shape[1]+1])\n",
    "        # 行全选，第一列到倒数第二列\n",
    "        temp[:,0:-1]=X\n",
    "        X = temp\n",
    "        # 真实值的y数组\n",
    "        y = np.array(y)\n",
    "        # batch_size 的mini_batch计算\n",
    "        batch_size = int(self.batch_size * X.shape[0])+1\n",
    "        print('batch_size = '+str(batch_size))\n",
    "        # epoch 每一次循环的BP\n",
    "        for k in range(epochs):\n",
    "            learning_rate = learning_rate_max - (learning_rate_max-learning_rate_min) * k/epochs\n",
    "            # mini_batch 随机取出规定数目的序号list\n",
    "            order = random.sample(range(X.shape[0]), batch_size)\n",
    "            #print(order)\n",
    "            # self.updates 的数据更新\n",
    "            self.updates[0] = np.zeros((self.layers[0] + 1, self.layers[1]))\n",
    "            for i in range(2, len(self.layers)):\n",
    "                self.updates[i-1] = np.zeros((self.layers[i - 1], self.layers[i]))\n",
    "            # print(self.updates)\n",
    "            # mini_batch 梯度下降抽样\n",
    "            error = 0\n",
    "            error_cache = 1\n",
    "            for j in range(batch_size):\n",
    "                temp_j = order[j]\n",
    "                # 根据order产生的随机数数列，循环每次一个样本\n",
    "                a = [X[temp_j]]\n",
    "                a.append(self.activation0(np.dot(a[0], self.weights[0])))\n",
    "                a.append(self.activation1(np.dot(a[1], self.weights[1])))\n",
    "                # 向前传播，得到每个节点的输出结果\n",
    "                error_temp = y[temp_j] - a[-1]\n",
    "                error += error_temp\n",
    "            error = error/batch_size   # 最后一层错误率\n",
    "            deltas = [error * self.activation1_deriv(a[-1])]\n",
    "            deltas.append(deltas[-1].dot(self.weights[1].T) * self.activation0_deriv(a[1]))\n",
    "            deltas.reverse()\n",
    "            if abs(error) <= error_threshold:\n",
    "                print('k = '+str(k))\n",
    "                print('error = '+str(error))\n",
    "                break\n",
    "            elif k==epochs_whole-1:\n",
    "                self.weights = weights_cache\n",
    "                print('iteration steps out of band')\n",
    "                print('error = '+str(error_cache))\n",
    "            for i in range(len(self.weights)):\n",
    "                layer = np.atleast_2d(a[i])\n",
    "                delta = np.atleast_2d(deltas[i])\n",
    "                self.updates[i] += learning_rate * layer.T.dot(delta)\n",
    "            for i in range(len(self.updates)):\n",
    "                self.weights[i] += self.updates[i]/batch_size\n",
    "            if error < error_cache:\n",
    "                error_cache = error\n",
    "                weights_cache = self.weights\n",
    "    def predict(self, x):\n",
    "        # x=np.array(x)\n",
    "        r1, c1 = x.shape\n",
    "        aa = np.ones(shape=[r1, 1])\n",
    "        for indexi in range(r1):\n",
    "            temp = np.ones(c1 + 1)\n",
    "            temp[0:-1] = x[indexi].T\n",
    "            a = temp\n",
    "            a = self.activation0(np.dot(a, self.weights[0]))\n",
    "            a = self.activation1(np.dot(a, self.weights[1]))\n",
    "            aa[indexi] = a\n",
    "        return (aa)\n",
    "    def load_weights(self, path_load):\n",
    "        '''''\n",
    "        worksheet = xlrd.open_workbook(path_load)\n",
    "        sheet_names = worksheet.sheet_names()\n",
    "        '''''\n",
    "        for indexi in range(len(self.weights)):\n",
    "            data = pd.read_excel(path_load, sheet_name=str(indexi),\n",
    "                                 header=0, skiprows=0)\n",
    "            self.weights[indexi] = np.array(data)\n",
    "\n",
    "    def save_weights(self, path_save):\n",
    "        '''''\n",
    "        workbook = xlwt.Workbook(encoding='ascii')\n",
    "\n",
    "        for indexi in range(len(self.weights)):\n",
    "            cmp = self.weights[indexi]\n",
    "            worksheet = workbook.add_sheet(str(indexi))\n",
    "            for i in range(len(cmp)):\n",
    "                for j, k in enumerate(cmp[i]):\n",
    "                    worksheet.write(i, j, k)\n",
    "        workbook.save(path_save)\n",
    "        '''''\n",
    "        with pd.ExcelWriter(path_save) as writer:\n",
    "            for indexi in range(len(self.weights)):\n",
    "                print('indexi = '+str(indexi))\n",
    "                data = self.weights[indexi]\n",
    "                data = pd.DataFrame(data)\n",
    "                data.to_excel(writer, sheet_name=str(indexi), index=False, header=False)\n",
    "'''\n",
    "    def rigidity_normalization(y, range0=range(300,320), range1=range(400,420)):\n",
    "        peek0 = np.max(y[range0])\n",
    "        peek1 = np.max(y[range1])\n",
    "        rigidity = peek0 / peek1\n",
    "        y = y / rigidity\n",
    "        return y\n",
    "'''\n",
    "#  BPNNet\n",
    "########################################################################################################################\n",
    "#本部分可调\n",
    "learning_rate_max_whole = 0.30\n",
    "learning_rate_min_whole = 0.10\n",
    "epochs_whole = 2000000\n",
    "batch_size_whole = 0\n",
    "threshold = 5e-8\n",
    "########################################################################################################################\n",
    "# active function\n",
    "\n",
    "########################################################################################################################\n",
    "date = '20191212'\n",
    "choose_element = 'CaO' #SiO2\tFe2O3\tAl2O3\tCaO\tMgO\tK2O\tNa2O\tTiO2\n",
    "for choose_element in tqdm_notebook(['SiO2','Fe2O3','Al2O3','CaO','MgO','K2O','Na2O','TiO2']):\n",
    "    for process in tqdm_notebook(['DenoisedSpectrum', 'SmoothedSpectrum']):\n",
    "        try_num = 1\n",
    "        #process = 'SmoothedSpectrum' #DenoisedSpectrum SmoothedSpectrum\n",
    "        data_file_path = os.path.join(r'D:\\data\\china_2020\\coeffs_cut', choose_element)\n",
    "        menu_guide_path = r'D:\\data\\Menu_Guide-quantitative.xlsx'\n",
    "        save_path_file = os.path.join(r'D:\\data\\china_2020\\result\\BPNN results', date, choose_element+'_'+str(try_num))\n",
    "        if not os.path.exists(save_path_file):\n",
    "            os.mkdir(save_path_file)\n",
    "        save_path_file = os.path.join(save_path_file, process)\n",
    "        if not os.path.exists(save_path_file):\n",
    "            os.mkdir(save_path_file)\n",
    "        #process_path = ['DenoisedSpectrum', 'SmoothedSpectrum']\n",
    "        choose_type = 'Soil_Type'\n",
    "        file_list = 'Spectra_Name'\n",
    "        sample_list = 'Spectra_Name'\n",
    "        data_flag = pd.read_excel(menu_guide_path)\n",
    "        file_names = np.array(data_flag[file_list])\n",
    "        concentration = np.array(data_flag[choose_element])\n",
    "        sample_type = np.array(data_flag[choose_type])\n",
    "        sample_name_unique = np.array(data_flag[sample_list])\n",
    "        train_test_set = np.array(data_flag['Train']).tolist()\n",
    "        type_list = data_flag[choose_type].drop_duplicates(keep='first').tolist()\n",
    "        p = 150  #p可调\n",
    "        ########################################################################################################################\n",
    "        # train list\n",
    "        #train_position = [i for i, j in enumerate(train_test_set) if j == 1]\n",
    "        train_position = [1, 3, 12, 13, 21]\n",
    "        # test list\n",
    "        #test_position = [i for i, j in enumerate(train_test_set) if j == 0]\n",
    "        test_position = [1, 3, 12, 13, 21]\n",
    "        ########################################################################################################################\n",
    "        # Input Data\n",
    "\n",
    "        state = 'pellet'\n",
    "        X_tr = None\n",
    "        for index_i in train_position:\n",
    "            temp_sample_type = type_list.index(sample_type[index_i])\n",
    "            temp_sample_name = sample_name_unique[index_i]\n",
    "            temp_concentration = concentration[index_i]\n",
    "            for j in range(8):\n",
    "                file = state+'_'+file_names[index_i]+'_'+process+'_'+str(j)+'.txt'\n",
    "                read_path = os.path.join(data_file_path, file)\n",
    "                if not os.path.exists(read_path):\n",
    "                    print(read_path)\n",
    "                    continue\n",
    "                data_cache = np.loadtxt(read_path)\n",
    "                data_cache = data_cache.flatten()\n",
    "                if X_tr is None:\n",
    "                    X_tr = data_cache\n",
    "                    y_tr = temp_concentration\n",
    "                    type_tr = temp_sample_type\n",
    "                    group_tr = index_i\n",
    "                    sample_name_tr = temp_sample_name\n",
    "                    intensity = data_cache\n",
    "                else:\n",
    "                    X_tr = np.row_stack((X_tr, data_cache))\n",
    "                    y_tr = np.row_stack((y_tr, temp_concentration))\n",
    "                    type_tr = np.row_stack((type_tr, temp_sample_type))\n",
    "                    sample_name_tr = np.row_stack((sample_name_tr, temp_sample_name))\n",
    "                    group_tr = np.row_stack((group_tr, index_i))\n",
    "        print('X_tr.shape = '+str(X_tr.shape))\n",
    "        print('y_tr.shape = '+str(y_tr.shape))\n",
    "\n",
    "        state = 'rock'\n",
    "        X_te = None\n",
    "        for index_i in train_position:\n",
    "            temp_sample_type = type_list.index(sample_type[index_i])\n",
    "            temp_sample_name = sample_name_unique[index_i]\n",
    "            temp_concentration = concentration[index_i]\n",
    "            for j in range(8):\n",
    "                file = state+'_'+file_names[index_i]+'_'+process+'_'+str(j)+'.txt'\n",
    "                read_path = os.path.join(data_file_path, file)\n",
    "                if not os.path.exists(read_path):\n",
    "                    print(read_path)\n",
    "                    continue\n",
    "                data_cache = np.loadtxt(read_path)\n",
    "                data_cache = data_cache.flatten()\n",
    "                if X_te is None:\n",
    "                    X_te = data_cache\n",
    "                    y_te = temp_concentration\n",
    "                    type_te = temp_sample_type\n",
    "                    group_te = index_i\n",
    "                    sample_name_te = temp_sample_name\n",
    "                else:\n",
    "                    X_te = np.row_stack((X_te, data_cache))\n",
    "                    y_te = np.row_stack((y_te, temp_concentration))\n",
    "                    type_te = np.row_stack((type_te, temp_sample_type))\n",
    "                    sample_name_te = np.row_stack((sample_name_te, temp_sample_name))\n",
    "                    group_te = np.row_stack((group_te, index_i))\n",
    "        print('X_te.shape = '+str(X_te.shape))\n",
    "        print('y_te.shape = '+str(y_te.shape))\n",
    "\n",
    "\n",
    "        '''\n",
    "        for index_i in train_position:\n",
    "            temp_sample_type = type_list.index(sample_type[index_i])\n",
    "            temp_sample_name = sample_name_unique[index_i]\n",
    "            temp_concentration = concentration[index_i]\n",
    "            for i in range(3):\n",
    "                for j in range(8):\n",
    "                    file = state+'_'+file_names[index_i]+'_'+process+'_'+str(i+1)+'_'+str(j)+'.txt'\n",
    "                    read_path = os.path.join(data_file_path, file)\n",
    "                    if not os.path.exists(read_path):\n",
    "                        print(read_path)\n",
    "                        continue\n",
    "                    data_cache = np.loadtxt(read_path)\n",
    "                    data_cache = data_cache.flatten()\n",
    "                    if X_tr is None:\n",
    "                        X_tr = data_cache\n",
    "                        y_tr = temp_concentration\n",
    "                        type_tr = temp_sample_type\n",
    "                        group_tr = index_i\n",
    "                        sample_name_tr = temp_sample_name\n",
    "                        intensity = data_cache\n",
    "                    else:\n",
    "                        X_tr = np.row_stack((X_tr, data_cache))\n",
    "                        y_tr = np.row_stack((y_tr, temp_concentration))\n",
    "                        type_tr = np.row_stack((type_tr, temp_sample_type))\n",
    "                        sample_name_tr = np.row_stack((sample_name_tr, temp_sample_name))\n",
    "                        group_tr = np.row_stack((group_tr, index_i))\n",
    "        print('X_tr.shape = '+str(X_tr.shape))\n",
    "        print('y_tr.shape = '+str(y_tr.shape))\n",
    "\n",
    "        state = 'rock'\n",
    "        X_te = None\n",
    "        for index_i in train_position:\n",
    "            temp_sample_type = type_list.index(sample_type[index_i])\n",
    "            temp_sample_name = sample_name_unique[index_i]\n",
    "            temp_concentration = concentration[index_i]\n",
    "            for i in range(3):\n",
    "                for j in range(8):\n",
    "                    file = state+'_'+file_names[index_i]+'_'+process+'_'+str(i+1)+'_'+str(j)+'.txt'\n",
    "                    read_path = os.path.join(data_file_path, file)\n",
    "                    if not os.path.exists(read_path):\n",
    "                        print(read_path)\n",
    "                        continue\n",
    "                    data_cache = np.loadtxt(read_path)\n",
    "                    data_cache = data_cache.flatten()\n",
    "                    if X_te is None:\n",
    "                        X_te = data_cache\n",
    "                        y_te = temp_concentration\n",
    "                        type_te = temp_sample_type\n",
    "                        group_te = index_i\n",
    "                        sample_name_te = temp_sample_name\n",
    "                    else:\n",
    "                        X_te = np.row_stack((X_te, data_cache))\n",
    "                        y_te = np.row_stack((y_te, temp_concentration))\n",
    "                        type_te = np.row_stack((type_te, temp_sample_type))\n",
    "                        sample_name_te = np.row_stack((sample_name_te, temp_sample_name))\n",
    "                        group_te = np.row_stack((group_te, index_i))\n",
    "        print('X_te.shape = '+str(X_te.shape))\n",
    "        print('y_te.shape = '+str(y_te.shape))\n",
    "        '''\n",
    "\n",
    "        ########################################################################################################################\n",
    "        # Te & Tr true concentration\n",
    "        group_tr_remove_duplicate = remove_duplicate(group_tr)\n",
    "        group_te_remove_duplicate = remove_duplicate(group_te)\n",
    "        group_tr_temp = group_tr.reshape(1, -1)\n",
    "        group_tr_temp = group_tr_temp[0, :].tolist()\n",
    "        group_te_temp = group_te.reshape(1, -1)\n",
    "        group_te_temp = group_te_temp[0, :].tolist()\n",
    "        order_y_tr = [group_tr_temp.index(x) for x in group_tr_remove_duplicate]\n",
    "        order_y_te = [group_te_temp.index(x) for x in group_te_remove_duplicate]\n",
    "        y_tr_true = y_tr[order_y_tr,:]\n",
    "        y_te_true = y_te[order_y_te,:]\n",
    "        ########################################################################################################################\n",
    "        # standard数据归一化\n",
    "        '''\n",
    "        min_max_scaler1 = preprocessing.MinMaxScaler()\n",
    "        X_tr = min_max_scaler1.fit_transform(X_tr)\n",
    "        X_te = min_max_scaler1.transform(X_te)\n",
    "        min_max_scaler2 = preprocessing.MinMaxScaler()\n",
    "        y_tr = min_max_scaler2.fit_transform(y_tr)\n",
    "        y_te = min_max_scaler2.transform(y_te)\n",
    "        min_max_scaler3 = preprocessing.MinMaxScaler()\n",
    "        group_tr_add = min_max_scaler3.fit_transform(group_tr)\n",
    "        group_te_add = min_max_scaler3.transform(group_te)\n",
    "        '''\n",
    "        ########################################################################################################################\n",
    "        # standard数据归一化for different states\n",
    "        min_max_scaler1 = preprocessing.MinMaxScaler()\n",
    "        X_tr = min_max_scaler1.fit_transform(X_tr)\n",
    "        min_max_scaler1_te = preprocessing.MinMaxScaler()\n",
    "        X_te = min_max_scaler1_te.fit_transform(X_te)\n",
    "        min_max_scaler2 = preprocessing.MinMaxScaler()\n",
    "        y_tr = min_max_scaler2.fit_transform(y_tr)\n",
    "        min_max_scaler2_te = preprocessing.MinMaxScaler()\n",
    "        y_te = min_max_scaler2_te.fit_transform(y_te)\n",
    "        min_max_scaler3 = preprocessing.MinMaxScaler()\n",
    "        group_tr_add = min_max_scaler3.fit_transform(group_tr)\n",
    "        min_max_scaler3_te = preprocessing.MinMaxScaler()\n",
    "        group_te_add = min_max_scaler3_te.fit_transform(group_te)\n",
    "        ########################################################################################################################\n",
    "\n",
    "\n",
    "\n",
    "        r0, c0 = X_tr.shape\n",
    "        print('r0,c0 = '+str(r0)+', '+str(c0))\n",
    "        ########################################################################################################################\n",
    "\n",
    "        k = 6\n",
    "        rr = 10\n",
    "\n",
    "        predict_train_temp = np.empty(shape=[len(y_tr_true), k * rr])\n",
    "        predict_train_temp_rsd = np.empty(shape=[len(y_tr_true), k * rr])\n",
    "        predict_val_temp = np.empty(shape=[len(y_tr_true), k * rr])\n",
    "        predict_val_temp_rsd = np.empty(shape=[len(y_tr_true), k * rr])\n",
    "        predict_tes_temp = np.empty(shape=[len(y_te), k * rr])\n",
    "\n",
    "        nn = BPNNet([c0, 5, 1], ['tanh','tanh'], batch_size_whole)   #神经元个数5-8\n",
    "        '''''\n",
    "        REtes = 0.4\n",
    "        R2 = 0.97\n",
    "        loop1 = 1oop2 = 1\n",
    "        while REtes>0.30  or R2<0.998:\n",
    "            print(\"loop1:\")\n",
    "            print(loop1)\n",
    "        '''''\n",
    "        rskf = RepeatedStratifiedKFold(n_splits=k, n_repeats=rr)\n",
    "        combine = list(rskf.split(X_tr, group_tr))\n",
    "        indexi = 0\n",
    "        t0 = time()\n",
    "\n",
    "\n",
    "        for train_index, val_index in combine:\n",
    "            X_train = X_tr[train_index]\n",
    "            y_train = y_tr[train_index]\n",
    "            group_train = group_tr[train_index]\n",
    "            X_val = X_tr[val_index]\n",
    "            y_val = y_tr[val_index]\n",
    "            group_val = group_tr[val_index]\n",
    "            nn.fit(X_train, y_train, learning_rate_max=learning_rate_max_whole, learning_rate_min=learning_rate_min_whole, epochs=epochs_whole, error_threshold=threshold)\n",
    "            nn.save_weights(save_path_file + r'\\weights' + str(indexi) + '.xlsx')\n",
    "\n",
    "            temp = nn.predict(X_train)\n",
    "            #  inverse transform standard\n",
    "            temp = min_max_scaler2.inverse_transform(temp)\n",
    "            temp1 = remove_duplicate(group_train)\n",
    "            group_train = group_train[:, 0].tolist()\n",
    "            for indexj in range(len(temp1)):\n",
    "                temp_order = [i for i, x in enumerate(group_train) if x == temp1[indexj]]\n",
    "                predict_train_temp[indexj, indexi] = np.mean(temp[temp_order])\n",
    "                predict_train_temp_rsd[indexj, indexi] = np.std(temp[temp_order])\n",
    "                #* np.sqrt(len(temp_order) / (len(temp_order) - 1))\n",
    "\n",
    "            temp = nn.predict(X_val)\n",
    "            #  inverse transform standard\n",
    "            temp = min_max_scaler2.inverse_transform(temp)\n",
    "            temp1 = remove_duplicate(group_val)\n",
    "            group_val = group_val[:, 0].tolist()\n",
    "            for indexj in range(len(temp1)):\n",
    "                temp_order = [i for i, x in enumerate(group_val) if x == temp1[indexj]]\n",
    "                predict_val_temp[indexj, indexi] = np.mean(temp[temp_order])\n",
    "                predict_val_temp_rsd[indexj, indexi] = np.std(temp[temp_order])\n",
    "                                                       #* np.sqrt(len(temp_order) / (len(temp_order) - 1))\n",
    "\n",
    "            temp = nn.predict(X_te)\n",
    "            #  inverse transform standard\n",
    "            temp = min_max_scaler2.inverse_transform(temp)\n",
    "            predict_tes_temp[:, indexi] = temp[:, 0]\n",
    "\n",
    "            indexi += 1\n",
    "        print(\"done in %0.3fs\" % (time() - t0))\n",
    "        # 作图使用的calibration val && validation set的predicted value & errorbar\n",
    "        #  predicted value\n",
    "        predict_train = np.mean(predict_train_temp, axis=1)\n",
    "        predict_train_rsd = np.mean(predict_train_temp_rsd, axis=1)\n",
    "        predict_val = np.mean(predict_val_temp, axis=1)  # 作图用的calibration线\n",
    "        predict_val_rsd = np.mean(predict_val_temp_rsd, axis=1)  # 作图用的calibration线的errorbar\n",
    "        # test data set\n",
    "        predict_tes = np.mean(predict_tes_temp, axis=1)\n",
    "        temp1 = remove_duplicate(group_te)\n",
    "        predict_te = np.empty(shape=[len(temp1), 1])  # 作图用的validation线\n",
    "        predict_te_rsd = np.empty(shape=[len(temp1), 1])  # 作图用的validation线的errorbar\n",
    "        group_te = group_te[:, 0].tolist()\n",
    "        for indexj in range(len(temp1)):\n",
    "            temp_order = [i for i, x in enumerate(group_te) if x == temp1[indexj]]\n",
    "            predict_te[indexj, 0] = np.mean(predict_tes[temp_order])\n",
    "            predict_te_rsd[indexj, 0] = np.std(predict_tes[temp_order]) #* np.sqrt(len(temp_order) / (len(temp_order) - 1))\n",
    "        # 文章计算Slope 截距\n",
    "        print('predict_val = '+str(predict_val))\n",
    "        Slope, intercept = optimize.curve_fit(f_1, y_tr_true[:, 0], predict_val)[0]\n",
    "        # 文章简图\n",
    "        nn0 = 10\n",
    "        start = np.min(y_tr_true) - (np.max(y_tr_true) - np.min(y_tr_true)) / 20.0\n",
    "        stop = np.max(y_tr_true) + (np.max(y_tr_true) - np.min(y_tr_true)) / 20.0\n",
    "        x1 = np.linspace(start, stop, num=nn0, endpoint=True)\n",
    "        y1 = Slope * x1 + intercept  ##  拟合曲线\n",
    "        plt.plot(x1, y1, color='r', linestyle='--', linewidth=1)\n",
    "        plt.errorbar(y_tr_true, predict_val, yerr=predict_val_rsd, fmt='o', marker='o', mfc='white', mec='black', ms=5, mew=1,\n",
    "                     ecolor='black', elinewidth=1, capsize=2)\n",
    "        plt.errorbar(y_te_true, predict_te[:, 0], yerr=predict_te_rsd[:, 0], fmt='x', marker='x', mfc='white', mec='black',\n",
    "                     ms=5, mew=1, ecolor='black', elinewidth=1, capsize=2)\n",
    "        plt.legend(['r2', 'val', 'tes'],\n",
    "                   loc='upper left',\n",
    "                   numpoints=1,\n",
    "                   fancybox=True)\n",
    "        plt.xlabel('Certified Concentration')\n",
    "        plt.ylabel('Predicted Concentration')\n",
    "        plt.show()\n",
    "        # 文章计算REC RET （使用y_tr_true）REP（使用y_te_true）\n",
    "        REC = relative_error(predict_train, y_tr_true)\n",
    "        RET = relative_error(predict_val, y_tr_true)\n",
    "        REP = relative_error(predict_te, y_te_true)\n",
    "        # 文章计算RSD(使用 predict_tes && y_te)\n",
    "        RSD = relative_standard_derivation(predict_tes, y_te)\n",
    "        # 文章计算LOD\n",
    "        LOD = limited_of_detection(Slope, predict_val_rsd)\n",
    "        # 文章计算R2（calibration曲线的r2）\n",
    "        R2 = r2_score(predict_val, y_tr_true)\n",
    "        ########################################################################################################################\n",
    "        # print the results\n",
    "        title = [\"REC\", \"RET\", \"REP\", \"RSD\", \"LOD\", \"R2\"]\n",
    "        value = [REC, RET, REP, RSD, LOD, R2]\n",
    "        print('title = '+str(title))\n",
    "        print('value = '+str(value))\n",
    "        ########################################################################################################################\n",
    "        # save the results\n",
    "        # Sheet 1\n",
    "        # REC, RET, REP, RSD, LOD, R2 value\n",
    "        cmp = [title, value]\n",
    "        workbook = xlwt.Workbook(encoding='ascii')\n",
    "        worksheet = workbook.add_sheet('Result')\n",
    "        for i in range(len(cmp)):\n",
    "            for j, k in enumerate(cmp[i]):\n",
    "                worksheet.write(i, j, k)\n",
    "        # Sheet 2\n",
    "        worksheet = workbook.add_sheet('Scatter')\n",
    "        # calibration scatters value\n",
    "        cal_true = ['cal_true']\n",
    "        cal_predict = ['cal_predict']\n",
    "        cal_stander_derivation = ['cal_stander_derivation']\n",
    "        cal_true += y_tr_true[:,0].tolist()\n",
    "        print('cal_true = '+str(cal_true))\n",
    "        cal_predict += predict_val.tolist()\n",
    "        cal_stander_derivation += predict_val_rsd.tolist()\n",
    "        cmp0 = [cal_true, cal_predict, cal_stander_derivation]\n",
    "        print('cmp0 = '+str(cmp0))\n",
    "        for i in range(len(cmp0)):\n",
    "            for j, k in enumerate(cmp0[i]):\n",
    "                worksheet.write(j, i, k)\n",
    "        # validation scatters value\n",
    "        val_true = ['val_true']\n",
    "        val_predict = ['val_predict']\n",
    "        val_stander_derivation = ['val_stander_derivation']\n",
    "        val_true += y_te_true[:, 0].tolist()\n",
    "        val_predict += predict_te[:, 0].tolist()\n",
    "        val_stander_derivation += predict_te_rsd[:, 0].tolist()\n",
    "        cmp = [val_true, val_predict, val_stander_derivation]\n",
    "        print('cmp0 = '+str(cmp0))\n",
    "        for i in range(len(cmp)):\n",
    "            for j, k in enumerate(cmp[i]):\n",
    "                worksheet.write(j, i+len(cmp0), k)\n",
    "        # Sheet 3\n",
    "        worksheet = workbook.add_sheet('fitting')\n",
    "        # fitting line value\n",
    "        fitting_x = [\"fitting_x\"]\n",
    "        fitting_y = [\"fitting_y\"]\n",
    "        fitting_x += x1.tolist()\n",
    "        fitting_y += y1.tolist()\n",
    "        cmp = [fitting_x, fitting_y]\n",
    "        for i in range(len(cmp)):\n",
    "            for j, k in enumerate(cmp[i]):\n",
    "                worksheet.write(j, i, k)\n",
    "        workbook.save(os.path.join(save_path_file, r'result.xlsx'))\n",
    "\n"
   ]
  },
  {
   "cell_type": "code",
   "execution_count": 11,
   "metadata": {},
   "outputs": [],
   "source": [
    "np.savetxt(r'D:\\data\\china_2020\\result\\BPNN results\\20191212\\cache\\X_tr.txt', X_tr)\n",
    "np.savetxt(r'D:\\data\\china_2020\\result\\BPNN results\\20191212\\cache\\X_te.txt', X_te)\n",
    "np.savetxt(r'D:\\data\\china_2020\\result\\BPNN results\\20191212\\cache\\y_tr.txt', y_tr)\n",
    "np.savetxt(r'D:\\data\\china_2020\\result\\BPNN results\\20191212\\cache\\y_te.txt', y_te)"
   ]
  },
  {
   "cell_type": "code",
   "execution_count": null,
   "metadata": {},
   "outputs": [],
   "source": []
  },
  {
   "cell_type": "code",
   "execution_count": 5,
   "metadata": {
    "scrolled": false
   },
   "outputs": [
    {
     "data": {
      "application/vnd.jupyter.widget-view+json": {
       "model_id": "436f7f362109441493b36cade89ecc2f",
       "version_major": 2,
       "version_minor": 0
      },
      "text/plain": [
       "HBox(children=(IntProgress(value=0, max=8), HTML(value='')))"
      ]
     },
     "metadata": {},
     "output_type": "display_data"
    },
    {
     "data": {
      "application/vnd.jupyter.widget-view+json": {
       "model_id": "bf6a01318f8b40d7a807b02ab670a064",
       "version_major": 2,
       "version_minor": 0
      },
      "text/plain": [
       "HBox(children=(IntProgress(value=0, max=1), HTML(value='')))"
      ]
     },
     "metadata": {},
     "output_type": "display_data"
    },
    {
     "name": "stdout",
     "output_type": "stream",
     "text": [
      "15965.373435023288\n",
      "19074.950763438064\n",
      "13551.651703419288\n",
      "13401.935121491162\n",
      "51562.18540159151\n",
      "11596.491295282236\n",
      "11351.011063695545\n",
      "2226.222619080236\n",
      "10369.896881111472\n",
      "49420.27910376047\n"
     ]
    },
    {
     "data": {
      "image/png": "[encoded data removed]",
      "text/plain": [
       "<Figure size 432x288 with 1 Axes>"
      ]
     },
     "metadata": {
      "needs_background": "light"
     },
     "output_type": "display_data"
    },
    {
     "name": "stdout",
     "output_type": "stream",
     "text": [
      "\n"
     ]
    },
    {
     "data": {
      "application/vnd.jupyter.widget-view+json": {
       "model_id": "f37beec0550744f9a2dd8c7c02586f1c",
       "version_major": 2,
       "version_minor": 0
      },
      "text/plain": [
       "HBox(children=(IntProgress(value=0, max=1), HTML(value='')))"
      ]
     },
     "metadata": {},
     "output_type": "display_data"
    },
    {
     "name": "stdout",
     "output_type": "stream",
     "text": [
      "4842.800199821867\n",
      "6088.80302702561\n",
      "6813.67667573952\n",
      "6554.280019806602\n",
      "9399.956819495112\n",
      "3473.626596539608\n",
      "4420.458806737162\n",
      "5241.2687517237055\n",
      "3560.448509268329\n",
      "7594.243261252264\n"
     ]
    },
    {
     "data": {
      "image/png": "[encoded data removed]",
      "text/plain": [
       "<Figure size 432x288 with 1 Axes>"
      ]
     },
     "metadata": {
      "needs_background": "light"
     },
     "output_type": "display_data"
    },
    {
     "name": "stdout",
     "output_type": "stream",
     "text": [
      "\n"
     ]
    },
    {
     "data": {
      "application/vnd.jupyter.widget-view+json": {
       "model_id": "e173bad44cdc4968bb37cb8fef1b7713",
       "version_major": 2,
       "version_minor": 0
      },
      "text/plain": [
       "HBox(children=(IntProgress(value=0, max=1), HTML(value='')))"
      ]
     },
     "metadata": {},
     "output_type": "display_data"
    },
    {
     "name": "stdout",
     "output_type": "stream",
     "text": [
      "6018.784991819772\n",
      "4379.754393757855\n",
      "6586.808493722255\n",
      "5776.794849294439\n",
      "16592.44818015393\n",
      "4330.031047310799\n",
      "3591.5570312270283\n",
      "4938.366173227335\n",
      "3421.480934646272\n",
      "15680.161790413898\n"
     ]
    },
    {
     "data": {
      "image/png": "[encoded data removed]",
      "text/plain": [
       "<Figure size 432x288 with 1 Axes>"
      ]
     },
     "metadata": {
      "needs_background": "light"
     },
     "output_type": "display_data"
    },
    {
     "name": "stdout",
     "output_type": "stream",
     "text": [
      "\n"
     ]
    },
    {
     "data": {
      "application/vnd.jupyter.widget-view+json": {
       "model_id": "c8385841080648f7a17a7f0211d570e9",
       "version_major": 2,
       "version_minor": 0
      },
      "text/plain": [
       "HBox(children=(IntProgress(value=0, max=1), HTML(value='')))"
      ]
     },
     "metadata": {},
     "output_type": "display_data"
    },
    {
     "name": "stdout",
     "output_type": "stream",
     "text": [
      "2060.553397529304\n",
      "3512.55983178217\n",
      "1927.4939740337338\n",
      "1985.5825746807518\n",
      "22640.35965075356\n",
      "2291.8832404659365\n",
      "2694.712442007615\n",
      "2001.1268638309225\n",
      "2419.956921948724\n",
      "20646.679947293724\n"
     ]
    },
    {
     "data": {
      "image/png": "[encoded data removed]",
      "text/plain": [
       "<Figure size 432x288 with 1 Axes>"
      ]
     },
     "metadata": {
      "needs_background": "light"
     },
     "output_type": "display_data"
    },
    {
     "name": "stdout",
     "output_type": "stream",
     "text": [
      "\n"
     ]
    },
    {
     "data": {
      "application/vnd.jupyter.widget-view+json": {
       "model_id": "a8777c41835644dca9d5e830a7514d68",
       "version_major": 2,
       "version_minor": 0
      },
      "text/plain": [
       "HBox(children=(IntProgress(value=0, max=1), HTML(value='')))"
      ]
     },
     "metadata": {},
     "output_type": "display_data"
    },
    {
     "name": "stdout",
     "output_type": "stream",
     "text": [
      "8733.227368453205\n",
      "21178.312436971275\n",
      "3438.8231383808893\n",
      "8626.135276808654\n",
      "15765.554910421037\n",
      "8873.631599608367\n",
      "11811.363268765823\n",
      "4635.268306049473\n",
      "9604.779523538058\n",
      "14623.727346944283\n"
     ]
    },
    {
     "data": {
      "image/png": "[encoded data removed]",
      "text/plain": [
       "<Figure size 432x288 with 1 Axes>"
      ]
     },
     "metadata": {
      "needs_background": "light"
     },
     "output_type": "display_data"
    },
    {
     "name": "stdout",
     "output_type": "stream",
     "text": [
      "\n"
     ]
    },
    {
     "data": {
      "application/vnd.jupyter.widget-view+json": {
       "model_id": "2fae4e904a0543ef93915aa9167aa5d6",
       "version_major": 2,
       "version_minor": 0
      },
      "text/plain": [
       "HBox(children=(IntProgress(value=0, max=1), HTML(value='')))"
      ]
     },
     "metadata": {},
     "output_type": "display_data"
    },
    {
     "name": "stdout",
     "output_type": "stream",
     "text": [
      "8759.670397366\n",
      "3817.403240956101\n",
      "7409.134799146624\n",
      "6193.092120766005\n",
      "2721.5622909685185\n",
      "4898.735107243899\n",
      "5499.916795800009\n",
      "4217.083021600614\n",
      "3084.0420247904667\n",
      "2391.5220007962002\n"
     ]
    },
    {
     "data": {
      "image/png": "[encoded data removed]",
      "text/plain": [
       "<Figure size 432x288 with 1 Axes>"
      ]
     },
     "metadata": {
      "needs_background": "light"
     },
     "output_type": "display_data"
    },
    {
     "name": "stdout",
     "output_type": "stream",
     "text": [
      "\n"
     ]
    },
    {
     "data": {
      "application/vnd.jupyter.widget-view+json": {
       "model_id": "1c37bb200be349f8966f36942acc6224",
       "version_major": 2,
       "version_minor": 0
      },
      "text/plain": [
       "HBox(children=(IntProgress(value=0, max=1), HTML(value='')))"
      ]
     },
     "metadata": {},
     "output_type": "display_data"
    },
    {
     "name": "stdout",
     "output_type": "stream",
     "text": [
      "13269.201777426531\n",
      "10933.819332327635\n",
      "8771.79246678245\n",
      "6553.688072429656\n",
      "16385.145061905147\n",
      "8057.742982821967\n",
      "6612.09691890183\n",
      "5333.578894586702\n",
      "3941.7423753706194\n",
      "13367.556840030567\n"
     ]
    },
    {
     "data": {
      "image/png": "[encoded data removed]",
      "text/plain": [
       "<Figure size 432x288 with 1 Axes>"
      ]
     },
     "metadata": {
      "needs_background": "light"
     },
     "output_type": "display_data"
    },
    {
     "name": "stdout",
     "output_type": "stream",
     "text": [
      "\n"
     ]
    },
    {
     "data": {
      "application/vnd.jupyter.widget-view+json": {
       "model_id": "53df9f29c9044d43beb8af0eab52af4d",
       "version_major": 2,
       "version_minor": 0
      },
      "text/plain": [
       "HBox(children=(IntProgress(value=0, max=1), HTML(value='')))"
      ]
     },
     "metadata": {},
     "output_type": "display_data"
    },
    {
     "name": "stdout",
     "output_type": "stream",
     "text": [
      "2367.9708269829293\n",
      "2300.1029846296265\n",
      "2286.2716554436497\n",
      "3074.000044805077\n",
      "2522.2857508898287\n",
      "3004.826279987104\n",
      "2007.614079464189\n",
      "2367.8706592587946\n",
      "2450.663862638462\n",
      "2449.994106053352\n"
     ]
    },
    {
     "data": {
      "image/png": "[encoded data removed]",
      "text/plain": [
       "<Figure size 432x288 with 1 Axes>"
      ]
     },
     "metadata": {
      "needs_background": "light"
     },
     "output_type": "display_data"
    },
    {
     "name": "stdout",
     "output_type": "stream",
     "text": [
      "\n",
      "\n"
     ]
    }
   ],
   "source": [
    "import numpy as np\n",
    "import pandas as pd\n",
    "import os\n",
    "from tqdm import tqdm_notebook\n",
    "from sklearn.linear_model import LinearRegression\n",
    "import scipy.io as scio\n",
    "from sklearn import preprocessing\n",
    "from matplotlib import pyplot as plt\n",
    "\n",
    "date = '20191226'\n",
    "\n",
    "mat_flag = {'DenoisedSpectrum': '_d', 'SmoothedSpectrum': '_s', 'RawSpectrum': '_r'}\n",
    "for choose_element in tqdm_notebook(['SiO2','Fe2O3','Al2O3','CaO','MgO','K2O','Na2O','TiO2']):\n",
    "    for process in tqdm_notebook(['RawSpectrum']):\n",
    "        try_num = 2\n",
    "        #process = 'SmoothedSpectrum' #DenoisedSpectrum SmoothedSpectrum\n",
    "        data_file_path = os.path.join(r'D:\\data\\china_2020\\coeffs_cwt\\coeffs_cut', choose_element)\n",
    "        menu_guide_path = r'D:\\data\\Menu_Guide-quantitative.xlsx'\n",
    "        save_path_file = os.path.join(r'D:\\data\\china_2020\\result\\BPNN results', date, 'linear regression')\n",
    "        if not os.path.exists(save_path_file):\n",
    "            os.mkdir(save_path_file)\n",
    "        #process_path = ['DenoisedSpectrum', 'SmoothedSpectrum']\n",
    "        choose_type = 'Soil_Type'\n",
    "        file_list = 'Spectra_Name'\n",
    "        sample_list = 'Spectra_Name'\n",
    "        data_flag = pd.read_excel(menu_guide_path)\n",
    "        file_names = np.array(data_flag[file_list])\n",
    "        concentration = np.array(data_flag[choose_element])\n",
    "        p = 150  #p可调\n",
    "        ########################################################################################################################\n",
    "        # train list\n",
    "        train_position = [1, 3, 12, 13, 21]\n",
    "        ########################################################################################################################\n",
    "        # Input Data\n",
    "        data_x = {'pellet': 0, 'rock': 0}\n",
    "        data_y = {'pellet': 0, 'rock': 0}\n",
    "        for state in ['pellet', 'rock']:\n",
    "            X = None\n",
    "            for index_i in train_position:\n",
    "                temp_concentration = concentration[index_i]\n",
    "                data_sum = 0\n",
    "                for j in range(8):\n",
    "                    file = state+'_'+file_names[index_i]+'_'+process+'_'+str(j)+'.txt'\n",
    "                    read_path = os.path.join(data_file_path, file)\n",
    "                    if not os.path.exists(read_path):\n",
    "                        print(read_path)\n",
    "                        continue\n",
    "                    data_cache = np.loadtxt(read_path)\n",
    "                    data_sum += np.sum(data_cache)\n",
    "                data_sum = data_sum / 8\n",
    "                print(data_sum)\n",
    "                if X is None:\n",
    "                    X = data_sum\n",
    "                    y = temp_concentration\n",
    "                else:\n",
    "                    X = np.row_stack((X, data_sum))\n",
    "                    y = np.row_stack((y, temp_concentration))\n",
    "            min_max_scaler1 = preprocessing.MinMaxScaler()\n",
    "            data_x[state] = min_max_scaler1.fit_transform(X)\n",
    "            min_max_scaler2 = preprocessing.MinMaxScaler()\n",
    "            data_y[state] = min_max_scaler2.fit_transform(y)\n",
    "            \n",
    "        reg = LinearRegression()\n",
    "        reg.fit(data_x['pellet'], data_y['pellet'])\n",
    "        r2_tr = reg.score(data_x['pellet'], data_y['pellet'])\n",
    "        p1 = reg.coef_\n",
    "        p2 = reg.intercept_\n",
    "        y_pred = reg.predict(data_x['rock'])\n",
    "        scio.savemat(os.path.join(save_path_file, 'wavelet_'+choose_element+'_'+process+'_cwt_reg.mat'), {'pred_'+choose_element+mat_flag[process]+'_cwt_reg': y_pred})\n",
    "        plt.plot(data_y['rock'].reshape(-1), y_pred.reshape(-1), 'k+')\n",
    "        plt.plot([0, 1], [0, 1], 'g-')\n",
    "        plt.xlabel('Certified Concentration')\n",
    "        plt.ylabel('Predicted Concentration')\n",
    "        plt.title(choose_element + '_' + process)\n",
    "        plt.show()"
   ]
  },
  {
   "cell_type": "code",
   "execution_count": 47,
   "metadata": {},
   "outputs": [
    {
     "name": "stdout",
     "output_type": "stream",
     "text": [
      "[[0.        ]\n",
      " [0.61203795]\n",
      " [0.23794782]\n",
      " [0.083091  ]\n",
      " [1.        ]]\n",
      "[[0.97997156]\n",
      " [0.2696284 ]\n",
      " [0.57010782]\n",
      " [1.        ]\n",
      " [0.        ]]\n"
     ]
    }
   ],
   "source": [
    "print(data_x['pellet'])\n",
    "print(data_y['pellet'])"
   ]
  },
  {
   "cell_type": "code",
   "execution_count": 62,
   "metadata": {},
   "outputs": [],
   "source": [
    "data_raw = np.loadtxt(r'D:\\data\\china_2020\\result\\K2O\\skb_scores\\pellet_RawSpectrum.txt')\n",
    "data_denoised = np.loadtxt(r'D:\\data\\china_2020\\result\\K2O\\skb_scores\\pellet_DenoisedSpectrum.txt')"
   ]
  },
  {
   "cell_type": "code",
   "execution_count": 63,
   "metadata": {},
   "outputs": [
    {
     "name": "stdout",
     "output_type": "stream",
     "text": [
      "2713.878857743189\n",
      "2841.0983590603787\n",
      "0\n",
      "0\n"
     ]
    }
   ],
   "source": [
    "print(np.max(data_raw, axis=0))\n",
    "print(np.max(data_denoised, axis=0))\n",
    "j=0\n",
    "for i in range(data_raw.shape[0]):\n",
    "    if data_raw[i] > 3500:\n",
    "        j += 1\n",
    "print(j)\n",
    "j=0\n",
    "for i in range(data_denoised.shape[0]):\n",
    "    if data_denoised[i] > 3500:\n",
    "        j += 1\n",
    "print(j)\n",
    "j=0"
   ]
  },
  {
   "cell_type": "code",
   "execution_count": 59,
   "metadata": {},
   "outputs": [
    {
     "data": {
      "text/plain": [
       "array([115.98587212, 118.80701316, 115.62658366, ...,  87.81728485,\n",
       "        99.48014318, 100.40413441])"
      ]
     },
     "execution_count": 59,
     "metadata": {},
     "output_type": "execute_result"
    }
   ],
   "source": [
    "data_raw"
   ]
  },
  {
   "cell_type": "code",
   "execution_count": null,
   "metadata": {},
   "outputs": [],
   "source": []
  }
 ],
 "metadata": {
  "kernelspec": {
   "display_name": "Python 3",
   "language": "python",
   "name": "python3"
  },
  "language_info": {
   "codemirror_mode": {
    "name": "ipython",
    "version": 3
   },
   "file_extension": ".py",
   "mimetype": "text/x-python",
   "name": "python",
   "nbconvert_exporter": "python",
   "pygments_lexer": "ipython3",
   "version": "3.7.4"
  }
 },
 "nbformat": 4,
 "nbformat_minor": 2
}
