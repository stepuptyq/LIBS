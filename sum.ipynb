{
 "cells": [
  {
   "cell_type": "code",
   "execution_count": 10,
   "metadata": {},
   "outputs": [],
   "source": [
    "import numpy as np\n",
    "import pandas as pd\n",
    "import os\n",
    "from tqdm import tqdm_notebook\n",
    "import scipy.io as scio"
   ]
  },
  {
   "cell_type": "code",
   "execution_count": null,
   "metadata": {},
   "outputs": [],
   "source": []
  },
  {
   "cell_type": "code",
   "execution_count": 24,
   "metadata": {},
   "outputs": [
    {
     "data": {
      "application/vnd.jupyter.widget-view+json": {
       "model_id": "6a526c3b0ca74a448908afd303062cce",
       "version_major": 2,
       "version_minor": 0
      },
      "text/plain": [
       "HBox(children=(IntProgress(value=0, max=8), HTML(value='')))"
      ]
     },
     "metadata": {},
     "output_type": "display_data"
    },
    {
     "data": {
      "application/vnd.jupyter.widget-view+json": {
       "model_id": "9e1df37b143d46ed841a084aa55cbbd9",
       "version_major": 2,
       "version_minor": 0
      },
      "text/plain": [
       "HBox(children=(IntProgress(value=0, max=2), HTML(value='')))"
      ]
     },
     "metadata": {},
     "output_type": "display_data"
    },
    {
     "name": "stdout",
     "output_type": "stream",
     "text": [
      "1026.4114953078938\n",
      "1712.5344041909898\n",
      "934.1591857097513\n",
      "969.1001894404462\n",
      "5951.799652713881\n",
      "1204.8702033611905\n",
      "1349.7980751454502\n",
      "274.62947874805127\n",
      "1101.2377575078697\n",
      "5279.435975477738\n",
      "545.3390531458564\n",
      "806.8084515656141\n",
      "490.7230111109381\n",
      "472.48287954894033\n",
      "2305.9996035150257\n",
      "581.1981943292968\n",
      "646.3679630305526\n",
      "187.00299747550292\n",
      "553.8224415229515\n",
      "2195.337894080365\n",
      "\n"
     ]
    },
    {
     "data": {
      "application/vnd.jupyter.widget-view+json": {
       "model_id": "e817d049611d427aa407e89503fe15a8",
       "version_major": 2,
       "version_minor": 0
      },
      "text/plain": [
       "HBox(children=(IntProgress(value=0, max=2), HTML(value='')))"
      ]
     },
     "metadata": {},
     "output_type": "display_data"
    },
    {
     "name": "stdout",
     "output_type": "stream",
     "text": [
      "317.93265268159803\n",
      "368.02106735949116\n",
      "413.50595416793266\n",
      "361.6711362371166\n",
      "366.13035586539\n",
      "253.85727224722396\n",
      "268.8481267387025\n",
      "288.7761446084344\n",
      "249.47327655442524\n",
      "319.75975304747686\n",
      "568.6221685049779\n",
      "733.2632529062303\n",
      "923.7617719891507\n",
      "677.2631687357398\n",
      "1035.138449110046\n",
      "467.00084335460997\n",
      "568.5855975462407\n",
      "713.0570573038246\n",
      "485.2202390880364\n",
      "893.7364895703663\n",
      "\n"
     ]
    },
    {
     "data": {
      "application/vnd.jupyter.widget-view+json": {
       "model_id": "3c9a58cbce644d6da09c1474045c4a5d",
       "version_major": 2,
       "version_minor": 0
      },
      "text/plain": [
       "HBox(children=(IntProgress(value=0, max=2), HTML(value='')))"
      ]
     },
     "metadata": {},
     "output_type": "display_data"
    },
    {
     "name": "stdout",
     "output_type": "stream",
     "text": [
      "7393.726009666406\n",
      "5952.178463895148\n",
      "7977.197696239134\n",
      "7118.3313057079395\n",
      "18858.290782106415\n",
      "5556.948761934196\n",
      "4225.2284535103345\n",
      "6237.905242237092\n",
      "4393.178374353337\n",
      "17668.905408472627\n",
      "7638.884690040303\n",
      "6295.717199843155\n",
      "8158.5878833051\n",
      "7272.4779131751475\n",
      "19112.871906570675\n",
      "5779.722914377577\n",
      "4331.571584890481\n",
      "6376.922800345966\n",
      "4519.045223558037\n",
      "17979.24327550525\n",
      "\n"
     ]
    },
    {
     "data": {
      "application/vnd.jupyter.widget-view+json": {
       "model_id": "31c17ee07a3945dcaf0d686c79974100",
       "version_major": 2,
       "version_minor": 0
      },
      "text/plain": [
       "HBox(children=(IntProgress(value=0, max=2), HTML(value='')))"
      ]
     },
     "metadata": {},
     "output_type": "display_data"
    },
    {
     "name": "stdout",
     "output_type": "stream",
     "text": [
      "214.74797040663435\n",
      "490.75725364675685\n",
      "157.24064696905612\n",
      "175.7845783410949\n",
      "5434.380494860912\n",
      "321.7752940305255\n",
      "124.99115525824743\n",
      "63.03080909234027\n",
      "238.94159828578663\n",
      "4160.382488047962\n",
      "74.58546719436143\n",
      "160.75286767802976\n",
      "54.18933762723395\n",
      "57.5036995660935\n",
      "1769.7545438730058\n",
      "102.97117849376436\n",
      "43.60805709532593\n",
      "19.890942695931752\n",
      "67.66149456120628\n",
      "1321.863139317618\n",
      "\n"
     ]
    },
    {
     "data": {
      "application/vnd.jupyter.widget-view+json": {
       "model_id": "5ab270732b1444ada32da372367f20ee",
       "version_major": 2,
       "version_minor": 0
      },
      "text/plain": [
       "HBox(children=(IntProgress(value=0, max=2), HTML(value='')))"
      ]
     },
     "metadata": {},
     "output_type": "display_data"
    },
    {
     "name": "stdout",
     "output_type": "stream",
     "text": [
      "4038.4402160746467\n",
      "10538.569115236543\n",
      "1402.786180625907\n",
      "3882.3259812301376\n",
      "7897.459116466923\n",
      "4340.363452707037\n",
      "6163.725269163918\n",
      "2286.416403322692\n",
      "4697.38401671272\n",
      "7134.801855671156\n",
      "3427.177341744337\n",
      "8142.777265641919\n",
      "1267.963174259172\n",
      "3396.71766168328\n",
      "6215.971830324462\n",
      "3466.504256558077\n",
      "4675.358495482757\n",
      "2055.537911765593\n",
      "3844.9704301402353\n",
      "5648.641074816913\n",
      "\n"
     ]
    },
    {
     "data": {
      "application/vnd.jupyter.widget-view+json": {
       "model_id": "03cc2fabb62b4fc7b08078b6a5f31244",
       "version_major": 2,
       "version_minor": 0
      },
      "text/plain": [
       "HBox(children=(IntProgress(value=0, max=2), HTML(value='')))"
      ]
     },
     "metadata": {},
     "output_type": "display_data"
    },
    {
     "name": "stdout",
     "output_type": "stream",
     "text": [
      "1156.3031314322022\n",
      "486.8040100371467\n",
      "990.2526274285842\n",
      "822.5679001550117\n",
      "345.9768167326895\n",
      "614.7798706211868\n",
      "648.7081418926882\n",
      "566.0608639614837\n",
      "413.51203564104765\n",
      "280.7028433789354\n",
      "1169.623275198284\n",
      "362.69088819462274\n",
      "973.355089536842\n",
      "752.7148980382211\n",
      "193.83322981702528\n",
      "579.8523079192906\n",
      "587.0139906291786\n",
      "516.5683561330674\n",
      "319.0014011221372\n",
      "161.65711719062404\n",
      "\n"
     ]
    },
    {
     "data": {
      "application/vnd.jupyter.widget-view+json": {
       "model_id": "5408458a3d3b413d94881cde5103c591",
       "version_major": 2,
       "version_minor": 0
      },
      "text/plain": [
       "HBox(children=(IntProgress(value=0, max=2), HTML(value='')))"
      ]
     },
     "metadata": {},
     "output_type": "display_data"
    },
    {
     "name": "stdout",
     "output_type": "stream",
     "text": [
      "12687.34675578729\n",
      "11452.327085201448\n",
      "10837.042393518543\n",
      "10045.412953601168\n",
      "13794.363742470918\n",
      "10681.502676225016\n",
      "10265.707526179478\n",
      "9914.483704111059\n",
      "9173.147032826299\n",
      "13355.640209877472\n",
      "12214.77310808497\n",
      "11225.422474996352\n",
      "10703.158487732147\n",
      "10042.182971938873\n",
      "13072.749987776222\n",
      "10526.945864463061\n",
      "10211.504832622219\n",
      "9902.533451999165\n",
      "9306.676932690523\n",
      "12709.01267242202\n",
      "\n"
     ]
    },
    {
     "data": {
      "application/vnd.jupyter.widget-view+json": {
       "model_id": "197d6bbaf6094a66b3fdd95045b3a224",
       "version_major": 2,
       "version_minor": 0
      },
      "text/plain": [
       "HBox(children=(IntProgress(value=0, max=2), HTML(value='')))"
      ]
     },
     "metadata": {},
     "output_type": "display_data"
    },
    {
     "name": "stdout",
     "output_type": "stream",
     "text": [
      "920.835401694014\n",
      "2388.3297833973834\n",
      "1469.9824790292805\n",
      "1140.206254182323\n",
      "3297.816169567664\n",
      "1250.8903647071868\n",
      "1925.058542484927\n",
      "1632.9265493966686\n",
      "1292.3010171029634\n",
      "3016.244927506539\n",
      "809.821123904235\n",
      "2216.6505581984015\n",
      "1356.7675956503315\n",
      "1000.8139581214328\n",
      "3108.419494034225\n",
      "1107.8836132751674\n",
      "1820.6937221577036\n",
      "1551.8736944876605\n",
      "1169.5409449407819\n",
      "2832.3495589821537\n",
      "\n",
      "\n"
     ]
    }
   ],
   "source": [
    "date = '20191220'\n",
    "\n",
    "for choose_element in tqdm_notebook(['SiO2','Fe2O3','Al2O3','CaO','MgO','K2O','Na2O','TiO2']):\n",
    "    for process in tqdm_notebook(['DenoisedSpectrum', 'SmoothedSpectrum', 'RawSpectrum']):\n",
    "        try_num = 1\n",
    "        #process = 'SmoothedSpectrum' #DenoisedSpectrum SmoothedSpectrum\n",
    "        data_file_path = os.path.join(r'D:\\data\\china_2020\\coeffs_cut', choose_element)\n",
    "        menu_guide_path = r'D:\\data\\Menu_Guide-quantitative.xlsx'\n",
    "        save_path_file = os.path.join(r'D:\\data\\china_2020\\result\\BPNN results', date, choose_element+'_'+str(try_num))\n",
    "        if not os.path.exists(save_path_file):\n",
    "            os.mkdir(save_path_file)\n",
    "        save_path_file = os.path.join(save_path_file, process)\n",
    "        if not os.path.exists(save_path_file):\n",
    "            os.mkdir(save_path_file)\n",
    "        #process_path = ['DenoisedSpectrum', 'SmoothedSpectrum']\n",
    "        choose_type = 'Soil_Type'\n",
    "        file_list = 'Spectra_Name'\n",
    "        sample_list = 'Spectra_Name'\n",
    "        data_flag = pd.read_excel(menu_guide_path)\n",
    "        file_names = np.array(data_flag[file_list])\n",
    "        concentration = np.array(data_flag[choose_element])\n",
    "        sample_type = np.array(data_flag[choose_type])\n",
    "        sample_name_unique = np.array(data_flag[sample_list])\n",
    "        train_test_set = np.array(data_flag['Train']).tolist()\n",
    "        type_list = data_flag[choose_type].drop_duplicates(keep='first').tolist()\n",
    "        p = 150  #p可调\n",
    "        ########################################################################################################################\n",
    "        # train list\n",
    "        #train_position = [i for i, j in enumerate(train_test_set) if j == 1]\n",
    "        train_position = [1, 3, 12, 13, 21]\n",
    "        # test list\n",
    "        #test_position = [i for i, j in enumerate(train_test_set) if j == 0]\n",
    "        test_position = [1, 3, 12, 13, 21]\n",
    "        ########################################################################################################################\n",
    "        # Input Data\n",
    "        for state in ['pellet', 'rock']:\n",
    "            X = None\n",
    "            for index_i in train_position:\n",
    "                temp_sample_type = type_list.index(sample_type[index_i])\n",
    "                temp_sample_name = sample_name_unique[index_i]\n",
    "                temp_concentration = concentration[index_i]\n",
    "                data_sum = 0\n",
    "                for j in range(8):\n",
    "                    file = state+'_'+file_names[index_i]+'_'+process+'_'+str(j)+'.txt'\n",
    "                    read_path = os.path.join(data_file_path, file)\n",
    "                    if not os.path.exists(read_path):\n",
    "                        print(read_path)\n",
    "                        continue\n",
    "                    data_cache = np.loadtxt(read_path)\n",
    "                    data_sum += np.sum(data_cache)\n",
    "                data_sum = data_sum / 8\n",
    "                print(data_sum)\n",
    "                if X is None:\n",
    "                    X = data_sum\n",
    "                    y = temp_concentration\n",
    "                else:\n",
    "                    X = np.row_stack((X, data_sum))\n",
    "                    y = np.row_stack((y, temp_concentration))\n",
    "            save_path = os.path.join(r'D:\\data\\china_2020\\coeffs_cut\\coeffs_sum', choose_element+'_'+process+'_'+state+'.mat')\n",
    "            scio.savemat(save_path, {choose_element+'_'+process+'_'+state: X})\n",
    "            save_path = os.path.join(r'D:\\data\\china_2020\\coeffs_cut\\coeffs_sum', choose_element+'_'+process+'_'+state+'_true.mat')\n",
    "            scio.savemat(save_path, {choose_element+'_'+process+'_true': y})"
   ]
  },
  {
   "cell_type": "code",
   "execution_count": null,
   "metadata": {},
   "outputs": [],
   "source": []
  },
  {
   "cell_type": "code",
   "execution_count": 25,
   "metadata": {},
   "outputs": [
    {
     "data": {
      "application/vnd.jupyter.widget-view+json": {
       "model_id": "aa765dffa5574aa7a0e9ee714b2d8d96",
       "version_major": 2,
       "version_minor": 0
      },
      "text/plain": [
       "HBox(children=(IntProgress(value=0, max=8), HTML(value='')))"
      ]
     },
     "metadata": {},
     "output_type": "display_data"
    },
    {
     "name": "stdout",
     "output_type": "stream",
     "text": [
      "15965.373435023288\n",
      "19074.950763438064\n",
      "13551.651703419288\n",
      "13401.935121491162\n",
      "51562.18540159151\n",
      "11596.491295282236\n",
      "11351.011063695545\n",
      "2226.222619080236\n",
      "10369.896881111472\n",
      "49420.27910376047\n",
      "4842.800199821867\n",
      "6088.80302702561\n",
      "6813.67667573952\n",
      "6554.280019806602\n",
      "9399.956819495112\n",
      "3473.626596539608\n",
      "4420.458806737162\n",
      "5241.2687517237055\n",
      "3560.448509268329\n",
      "7594.243261252264\n",
      "6018.784991819772\n",
      "4379.754393757855\n",
      "6586.808493722255\n",
      "5776.794849294439\n",
      "16592.44818015393\n",
      "4330.031047310799\n",
      "3591.5570312270283\n",
      "4938.366173227335\n",
      "3421.480934646272\n",
      "15680.161790413898\n",
      "2060.553397529304\n",
      "3512.55983178217\n",
      "1927.4939740337338\n",
      "1985.5825746807518\n",
      "22640.35965075356\n",
      "2291.8832404659365\n",
      "2694.712442007615\n",
      "2001.1268638309225\n",
      "2419.956921948724\n",
      "20646.679947293724\n",
      "8733.227368453205\n",
      "21178.312436971275\n",
      "3438.8231383808893\n",
      "8626.135276808654\n",
      "15765.554910421037\n",
      "8873.631599608367\n",
      "11811.363268765823\n",
      "4635.268306049473\n",
      "9604.779523538058\n",
      "14623.727346944283\n",
      "8759.670397366\n",
      "3817.403240956101\n",
      "7409.134799146624\n",
      "6193.092120766005\n",
      "2721.5622909685185\n",
      "4898.735107243899\n",
      "5499.916795800009\n",
      "4217.083021600614\n",
      "3084.0420247904667\n",
      "2391.5220007962002\n",
      "13269.201777426531\n",
      "10933.819332327635\n",
      "8771.79246678245\n",
      "6553.688072429656\n",
      "16385.145061905147\n",
      "8057.742982821967\n",
      "6612.09691890183\n",
      "5333.578894586702\n",
      "3941.7423753706194\n",
      "13367.556840030567\n",
      "2367.9708269829293\n",
      "2300.1029846296265\n",
      "2286.2716554436497\n",
      "3074.000044805077\n",
      "2522.2857508898287\n",
      "3004.826279987104\n",
      "2007.614079464189\n",
      "2367.8706592587946\n",
      "2450.663862638462\n",
      "2449.994106053352\n",
      "\n"
     ]
    }
   ],
   "source": [
    "\n",
    "for choose_element in tqdm_notebook(['SiO2','Fe2O3','Al2O3','CaO','MgO','K2O','Na2O','TiO2']):\n",
    "    process = 'RawSpectrum'\n",
    "    try_num = 1\n",
    "    #process = 'SmoothedSpectrum' #DenoisedSpectrum SmoothedSpectrum\n",
    "    data_file_path = os.path.join(r'D:\\data\\china_2020\\coeffs_cut', choose_element)\n",
    "    menu_guide_path = r'D:\\data\\Menu_Guide-quantitative.xlsx'\n",
    "    choose_type = 'Soil_Type'\n",
    "    file_list = 'Spectra_Name'\n",
    "    sample_list = 'Spectra_Name'\n",
    "    data_flag = pd.read_excel(menu_guide_path)\n",
    "    file_names = np.array(data_flag[file_list])\n",
    "    concentration = np.array(data_flag[choose_element])\n",
    "    sample_type = np.array(data_flag[choose_type])\n",
    "    sample_name_unique = np.array(data_flag[sample_list])\n",
    "    train_test_set = np.array(data_flag['Train']).tolist()\n",
    "    type_list = data_flag[choose_type].drop_duplicates(keep='first').tolist()\n",
    "    p = 150  #p可调\n",
    "    ########################################################################################################################\n",
    "    # train list\n",
    "    #train_position = [i for i, j in enumerate(train_test_set) if j == 1]\n",
    "    train_position = [1, 3, 12, 13, 21]\n",
    "    # test list\n",
    "    #test_position = [i for i, j in enumerate(train_test_set) if j == 0]\n",
    "    test_position = [1, 3, 12, 13, 21]\n",
    "    ########################################################################################################################\n",
    "    # Input Data\n",
    "    for state in ['pellet', 'rock']:\n",
    "        X = None\n",
    "        for index_i in train_position:\n",
    "            temp_sample_type = type_list.index(sample_type[index_i])\n",
    "            temp_sample_name = sample_name_unique[index_i]\n",
    "            temp_concentration = concentration[index_i]\n",
    "            data_sum = 0\n",
    "            for j in range(8):\n",
    "                file = state+'_'+file_names[index_i]+'_'+process+'_'+str(j)+'.txt'\n",
    "                read_path = os.path.join(data_file_path, file)\n",
    "                if not os.path.exists(read_path):\n",
    "                    print(read_path)\n",
    "                    continue\n",
    "                data_cache = np.loadtxt(read_path)\n",
    "                data_sum += np.sum(data_cache)\n",
    "            data_sum = data_sum / 8\n",
    "            print(data_sum)\n",
    "            if X is None:\n",
    "                X = data_sum\n",
    "                y = temp_concentration\n",
    "            else:\n",
    "                X = np.row_stack((X, data_sum))\n",
    "                y = np.row_stack((y, temp_concentration))\n",
    "        save_path = os.path.join(r'D:\\data\\china_2020\\coeffs_cut\\coeffs_sum', choose_element+'_'+process+'_'+state+'.mat')\n",
    "        scio.savemat(save_path, {choose_element+'_'+process+'_'+state: X})\n",
    "        save_path = os.path.join(r'D:\\data\\china_2020\\coeffs_cut\\coeffs_sum', choose_element+'_'+process+'_'+state+'_true.mat')\n",
    "        scio.savemat(save_path, {choose_element+'_'+process+'_true': y})"
   ]
  },
  {
   "cell_type": "code",
   "execution_count": null,
   "metadata": {},
   "outputs": [],
   "source": []
  }
 ],
 "metadata": {
  "kernelspec": {
   "display_name": "Python 3",
   "language": "python",
   "name": "python3"
  },
  "language_info": {
   "codemirror_mode": {
    "name": "ipython",
    "version": 3
   },
   "file_extension": ".py",
   "mimetype": "text/x-python",
   "name": "python",
   "nbconvert_exporter": "python",
   "pygments_lexer": "ipython3",
   "version": "3.7.4"
  }
 },
 "nbformat": 4,
 "nbformat_minor": 2
}
