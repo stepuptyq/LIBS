{
 "cells": [
  {
   "cell_type": "code",
   "execution_count": 5,
   "metadata": {},
   "outputs": [],
   "source": [
    "import numpy as np\n",
    "import os\n",
    "from tqdm import tqdm_notebook\n",
    "import scipy.io as scio"
   ]
  },
  {
   "cell_type": "code",
   "execution_count": 22,
   "metadata": {},
   "outputs": [],
   "source": [
    "########################################################################################################################\n",
    "# find peak\n",
    "def find_peak(x):\n",
    "    peak = []\n",
    "    for index in range(1, len(x)-1, 1):\n",
    "        if x[index-1] < x[index] and x[index] > x[index+1]:\n",
    "            peak.append(x[index])\n",
    "    return peak\n",
    "\n",
    "\n",
    "########################################################################################################################\n",
    "# 背景扣除\n",
    "def simulate_background(x):\n",
    "    x = x.tolist()\n",
    "    peak_list = find_peak(x)\n",
    "    peak_position_list = [i for i, x in enumerate(x) if x in peak_list]\n",
    "    min_list = [min(x[peak_position_list[i]:peak_position_list[i+1]]) for i in range(len(peak_position_list)-1)]\n",
    "    min_new_list = min_list\n",
    "    for index in range(1, len(min_list)-1, 1):\n",
    "        if min_list[index] != 0:\n",
    "            if min_list[index-1] != 0 and min_list[index+1] != 0:\n",
    "                #if 1.2*min_list[index+1] > min_list[index] > 1.2*min_list[index-1]:\n",
    "                #    min_list[index] = np.min([min_list[index-1], min_list[index+1]])\n",
    "                #if 1.2*min_list[index+1] < min_list[index] < 1.2*min_list[index-1]:\n",
    "                #    min_list[index] = np.min([min_list[index-1], min_list[index+1]])\n",
    "                if min_list[index] > 1.2*min_list[index-1] and min_list[index] > 1.2*min_list[index+1]:\n",
    "                    min_new_list[index] = 0.5*(min_list[index-1] + min_list[index+1])\n",
    "    for index in range(len(peak_position_list)-1):\n",
    "        x_change = x[peak_position_list[index]:peak_position_list[index+1]]\n",
    "        x_change = [min_new_list[index] for i in range(len(x_change))]\n",
    "        x[peak_position_list[index]:peak_position_list[index + 1]] = x_change\n",
    "    x = np.array(x)\n",
    "    return x\n",
    "\n",
    "\n",
    "########################################################################################################################\n",
    "# 背景扣除\n",
    "def correct_background(x):\n",
    "    x = np.maximum(x, 0)\n",
    "    x = x-simulate_background(x)\n",
    "    return x"
   ]
  },
  {
   "cell_type": "code",
   "execution_count": null,
   "metadata": {},
   "outputs": [],
   "source": []
  },
  {
   "cell_type": "code",
   "execution_count": null,
   "metadata": {},
   "outputs": [],
   "source": [
    "\n",
    "point_number = 3\n",
    "orig_path = r'D:\\data\\china_2020\\pixel_select_dark_corrected'\n",
    "rock_type = ['S2', 'S5', 'S17', 'S19', 'S30']\n",
    "process_path = ['DenoisedSpectrum', 'SmoothedSpectrum', 'RawSpectrum']\n",
    "save_path_root = r'D:\\data\\china_2020\\pixel_select_background_corrected'\n",
    "pixel_list = np.loadtxt(r'D:\\data\\china_2020\\pixel_list.txt')\n",
    "for state in tqdm_notebook(['rock', 'pellet']):\n",
    "    for i in tqdm_notebook(rock_type):\n",
    "        for j in process_path:\n",
    "            for z in range(point_number):\n",
    "                data = np.loadtxt(os.path.join(orig_path, i + '-' + state + '_' + j + '_' + str(z + 1) + '.txt'))\n",
    "                data = data[:, 1:]\n",
    "                data_res = np.zeros((data.shape))\n",
    "                for index_i in range(data.shape[1]):\n",
    "                    data_res[:, index_i] = correct_background(data[:, index_i])\n",
    "                np.savetxt(os.path.join(save_path_root, i + '-' + state + '_' + j + '_' + str(z + 1) + '.txt'), np.column_stack((pixel_list, data_res)), '%.5g')\n"
   ]
  },
  {
   "cell_type": "code",
   "execution_count": null,
   "metadata": {},
   "outputs": [],
   "source": []
  },
  {
   "cell_type": "code",
   "execution_count": null,
   "metadata": {},
   "outputs": [],
   "source": []
  },
  {
   "cell_type": "code",
   "execution_count": null,
   "metadata": {},
   "outputs": [],
   "source": []
  },
  {
   "cell_type": "code",
   "execution_count": null,
   "metadata": {},
   "outputs": [],
   "source": []
  },
  {
   "cell_type": "code",
   "execution_count": null,
   "metadata": {},
   "outputs": [],
   "source": []
  },
  {
   "cell_type": "code",
   "execution_count": null,
   "metadata": {},
   "outputs": [],
   "source": []
  }
 ],
 "metadata": {
  "kernelspec": {
   "display_name": "Python 3",
   "language": "python",
   "name": "python3"
  },
  "language_info": {
   "codemirror_mode": {
    "name": "ipython",
    "version": 3
   },
   "file_extension": ".py",
   "mimetype": "text/x-python",
   "name": "python",
   "nbconvert_exporter": "python",
   "pygments_lexer": "ipython3",
   "version": "3.7.4"
  }
 },
 "nbformat": 4,
 "nbformat_minor": 2
}
